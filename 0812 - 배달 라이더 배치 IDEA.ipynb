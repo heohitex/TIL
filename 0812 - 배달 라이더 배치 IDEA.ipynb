{
 "cells": [
  {
   "cell_type": "code",
   "execution_count": 1,
   "metadata": {},
   "outputs": [],
   "source": [
    "#라이브러리 import\n",
    "import pandas as pd\n",
    "import numpy as np\n",
    "import seaborn as sns\n",
    "import matplotlib.pyplot as plt\n",
    "import datetime"
   ]
  },
  {
   "cell_type": "code",
   "execution_count": 2,
   "metadata": {},
   "outputs": [],
   "source": [
    "#시각화 도구 Setting\n",
    "plt.rc('font', family=\"Malgun Gothic\")\n",
    "plt.rc('axes', unicode_minus=False)\n",
    "from IPython.display import set_matplotlib_formats\n",
    "\n",
    "set_matplotlib_formats('retina')"
   ]
  },
  {
   "cell_type": "code",
   "execution_count": 3,
   "metadata": {},
   "outputs": [
    {
     "name": "stderr",
     "output_type": "stream",
     "text": [
      "C:\\ProgramData\\Anaconda3\\lib\\site-packages\\IPython\\core\\interactiveshell.py:3146: DtypeWarning: Columns (13) have mixed types.Specify dtype option on import or set low_memory=False.\n",
      "  has_raised = await self.run_ast_nodes(code_ast.body, cell_name,\n"
     ]
    }
   ],
   "source": [
    "raw = pd.read_csv(\"data/edit/dlvr_data.csv\")"
   ]
  },
  {
   "cell_type": "code",
   "execution_count": 4,
   "metadata": {},
   "outputs": [
    {
     "data": {
      "text/html": [
       "<div>\n",
       "<style scoped>\n",
       "    .dataframe tbody tr th:only-of-type {\n",
       "        vertical-align: middle;\n",
       "    }\n",
       "\n",
       "    .dataframe tbody tr th {\n",
       "        vertical-align: top;\n",
       "    }\n",
       "\n",
       "    .dataframe thead th {\n",
       "        text-align: right;\n",
       "    }\n",
       "</style>\n",
       "<table border=\"1\" class=\"dataframe\">\n",
       "  <thead>\n",
       "    <tr style=\"text-align: right;\">\n",
       "      <th></th>\n",
       "      <th>SN</th>\n",
       "      <th>PROCESS_DT</th>\n",
       "      <th>DLVR_REQUST_STTUS_VALUE</th>\n",
       "      <th>DLVR_STORE_INDUTY_NM</th>\n",
       "      <th>DLVR_STORE_BRTC_NM</th>\n",
       "      <th>DLVR_STORE_SIGNGU_NM</th>\n",
       "      <th>DLVR_STORE_LEGALDONG_NM</th>\n",
       "      <th>DLVR_STORE_LI_NM</th>\n",
       "      <th>DLVR_STORE_ADSTRD_CODE</th>\n",
       "      <th>DLVR_DSTN_BRTC_NM</th>\n",
       "      <th>...</th>\n",
       "      <th>DLVR_DSTN_LI_NM</th>\n",
       "      <th>DLVR_DSTN_ADSTRD_CODE</th>\n",
       "      <th>DLVR_MAN_ID</th>\n",
       "      <th>DLVR_AMOUNT</th>\n",
       "      <th>GOODS_AMOUNT</th>\n",
       "      <th>SETLE_KND_VALUE</th>\n",
       "      <th>DLVR_RCEPT_TIME</th>\n",
       "      <th>DLVR_CARALC_TIME</th>\n",
       "      <th>DLVR_RECPT_TIME</th>\n",
       "      <th>DLVR_COMPT_TIME</th>\n",
       "    </tr>\n",
       "  </thead>\n",
       "  <tbody>\n",
       "    <tr>\n",
       "      <th>0</th>\n",
       "      <td>3486930</td>\n",
       "      <td>2019-12-01</td>\n",
       "      <td>1</td>\n",
       "      <td>치킨</td>\n",
       "      <td>경기도</td>\n",
       "      <td>고양시 일산동구</td>\n",
       "      <td>중산동</td>\n",
       "      <td>\\N</td>\n",
       "      <td>4128552000</td>\n",
       "      <td>경기도</td>\n",
       "      <td>...</td>\n",
       "      <td>\\N</td>\n",
       "      <td>4128552000</td>\n",
       "      <td>D0005898</td>\n",
       "      <td>2900</td>\n",
       "      <td>21900</td>\n",
       "      <td>1</td>\n",
       "      <td>2019-12-01 21:58:07</td>\n",
       "      <td>2019-12-01 22:01:06</td>\n",
       "      <td>2019-12-01 22:20:53</td>\n",
       "      <td>2019-12-01 22:26:01</td>\n",
       "    </tr>\n",
       "    <tr>\n",
       "      <th>1</th>\n",
       "      <td>3486932</td>\n",
       "      <td>2019-12-01</td>\n",
       "      <td>1</td>\n",
       "      <td>치킨</td>\n",
       "      <td>경기도</td>\n",
       "      <td>의정부시</td>\n",
       "      <td>의정부동</td>\n",
       "      <td>\\N</td>\n",
       "      <td>4115051000</td>\n",
       "      <td>경기도</td>\n",
       "      <td>...</td>\n",
       "      <td>\\N</td>\n",
       "      <td>4115062000</td>\n",
       "      <td>D0000864</td>\n",
       "      <td>3500</td>\n",
       "      <td>19500</td>\n",
       "      <td>2</td>\n",
       "      <td>2019-12-01 22:20:31</td>\n",
       "      <td>2019-12-01 22:37:45</td>\n",
       "      <td>2019-12-01 22:58:27</td>\n",
       "      <td>2019-12-01 22:58:32</td>\n",
       "    </tr>\n",
       "    <tr>\n",
       "      <th>2</th>\n",
       "      <td>3486933</td>\n",
       "      <td>2019-12-01</td>\n",
       "      <td>1</td>\n",
       "      <td>돈까스/일식</td>\n",
       "      <td>경기도</td>\n",
       "      <td>고양시 일산동구</td>\n",
       "      <td>장항동</td>\n",
       "      <td>\\N</td>\n",
       "      <td>4128559000</td>\n",
       "      <td>경기도</td>\n",
       "      <td>...</td>\n",
       "      <td>\\N</td>\n",
       "      <td>4128556000</td>\n",
       "      <td>D0001526</td>\n",
       "      <td>3500</td>\n",
       "      <td>18000</td>\n",
       "      <td>2</td>\n",
       "      <td>2019-12-01 21:40:39</td>\n",
       "      <td>2019-12-01 21:48:41</td>\n",
       "      <td>2019-12-01 22:06:35</td>\n",
       "      <td>2019-12-01 22:17:57</td>\n",
       "    </tr>\n",
       "    <tr>\n",
       "      <th>3</th>\n",
       "      <td>3486934</td>\n",
       "      <td>2019-12-01</td>\n",
       "      <td>1</td>\n",
       "      <td>치킨</td>\n",
       "      <td>경기도</td>\n",
       "      <td>의정부시</td>\n",
       "      <td>금오동</td>\n",
       "      <td>\\N</td>\n",
       "      <td>4115058000</td>\n",
       "      <td>경기도</td>\n",
       "      <td>...</td>\n",
       "      <td>\\N</td>\n",
       "      <td>4115058000</td>\n",
       "      <td>D0000986</td>\n",
       "      <td>3500</td>\n",
       "      <td>18000</td>\n",
       "      <td>3</td>\n",
       "      <td>2019-12-01 19:44:37</td>\n",
       "      <td>2019-12-01 19:48:07</td>\n",
       "      <td>2019-12-01 19:54:30</td>\n",
       "      <td>2019-12-01 20:00:22</td>\n",
       "    </tr>\n",
       "    <tr>\n",
       "      <th>4</th>\n",
       "      <td>3486940</td>\n",
       "      <td>2019-12-01</td>\n",
       "      <td>1</td>\n",
       "      <td>아시안/양식</td>\n",
       "      <td>경기도</td>\n",
       "      <td>광명시</td>\n",
       "      <td>광명동</td>\n",
       "      <td>\\N</td>\n",
       "      <td>4121055000</td>\n",
       "      <td>경기도</td>\n",
       "      <td>...</td>\n",
       "      <td>\\N</td>\n",
       "      <td>4121060000</td>\n",
       "      <td>D0003991</td>\n",
       "      <td>3300</td>\n",
       "      <td>19000</td>\n",
       "      <td>2</td>\n",
       "      <td>2019-12-01 19:08:19</td>\n",
       "      <td>2019-12-01 19:37:13</td>\n",
       "      <td>2019-12-01 19:58:04</td>\n",
       "      <td>2019-12-01 19:58:06</td>\n",
       "    </tr>\n",
       "  </tbody>\n",
       "</table>\n",
       "<p>5 rows × 22 columns</p>\n",
       "</div>"
      ],
      "text/plain": [
       "        SN  PROCESS_DT  DLVR_REQUST_STTUS_VALUE DLVR_STORE_INDUTY_NM  \\\n",
       "0  3486930  2019-12-01                        1                   치킨   \n",
       "1  3486932  2019-12-01                        1                   치킨   \n",
       "2  3486933  2019-12-01                        1               돈까스/일식   \n",
       "3  3486934  2019-12-01                        1                   치킨   \n",
       "4  3486940  2019-12-01                        1               아시안/양식   \n",
       "\n",
       "  DLVR_STORE_BRTC_NM DLVR_STORE_SIGNGU_NM DLVR_STORE_LEGALDONG_NM  \\\n",
       "0                경기도             고양시 일산동구                     중산동   \n",
       "1                경기도                 의정부시                    의정부동   \n",
       "2                경기도             고양시 일산동구                     장항동   \n",
       "3                경기도                 의정부시                     금오동   \n",
       "4                경기도                  광명시                     광명동   \n",
       "\n",
       "  DLVR_STORE_LI_NM  DLVR_STORE_ADSTRD_CODE DLVR_DSTN_BRTC_NM  ...  \\\n",
       "0               \\N              4128552000               경기도  ...   \n",
       "1               \\N              4115051000               경기도  ...   \n",
       "2               \\N              4128559000               경기도  ...   \n",
       "3               \\N              4115058000               경기도  ...   \n",
       "4               \\N              4121055000               경기도  ...   \n",
       "\n",
       "  DLVR_DSTN_LI_NM DLVR_DSTN_ADSTRD_CODE DLVR_MAN_ID DLVR_AMOUNT GOODS_AMOUNT  \\\n",
       "0              \\N            4128552000    D0005898        2900        21900   \n",
       "1              \\N            4115062000    D0000864        3500        19500   \n",
       "2              \\N            4128556000    D0001526        3500        18000   \n",
       "3              \\N            4115058000    D0000986        3500        18000   \n",
       "4              \\N            4121060000    D0003991        3300        19000   \n",
       "\n",
       "   SETLE_KND_VALUE      DLVR_RCEPT_TIME     DLVR_CARALC_TIME  \\\n",
       "0                1  2019-12-01 21:58:07  2019-12-01 22:01:06   \n",
       "1                2  2019-12-01 22:20:31  2019-12-01 22:37:45   \n",
       "2                2  2019-12-01 21:40:39  2019-12-01 21:48:41   \n",
       "3                3  2019-12-01 19:44:37  2019-12-01 19:48:07   \n",
       "4                2  2019-12-01 19:08:19  2019-12-01 19:37:13   \n",
       "\n",
       "       DLVR_RECPT_TIME      DLVR_COMPT_TIME  \n",
       "0  2019-12-01 22:20:53  2019-12-01 22:26:01  \n",
       "1  2019-12-01 22:58:27  2019-12-01 22:58:32  \n",
       "2  2019-12-01 22:06:35  2019-12-01 22:17:57  \n",
       "3  2019-12-01 19:54:30  2019-12-01 20:00:22  \n",
       "4  2019-12-01 19:58:04  2019-12-01 19:58:06  \n",
       "\n",
       "[5 rows x 22 columns]"
      ]
     },
     "execution_count": 4,
     "metadata": {},
     "output_type": "execute_result"
    }
   ],
   "source": [
    "raw.head()"
   ]
  },
  {
   "cell_type": "code",
   "execution_count": 5,
   "metadata": {},
   "outputs": [
    {
     "data": {
      "text/plain": [
       "Index(['SN', 'PROCESS_DT', 'DLVR_REQUST_STTUS_VALUE', 'DLVR_STORE_INDUTY_NM',\n",
       "       'DLVR_STORE_BRTC_NM', 'DLVR_STORE_SIGNGU_NM', 'DLVR_STORE_LEGALDONG_NM',\n",
       "       'DLVR_STORE_LI_NM', 'DLVR_STORE_ADSTRD_CODE', 'DLVR_DSTN_BRTC_NM',\n",
       "       'DLVR_DSTN_SIGNGU_NM', 'DLVR_DSTN_LEGALDONG_NM', 'DLVR_DSTN_LI_NM',\n",
       "       'DLVR_DSTN_ADSTRD_CODE', 'DLVR_MAN_ID', 'DLVR_AMOUNT', 'GOODS_AMOUNT',\n",
       "       'SETLE_KND_VALUE', 'DLVR_RCEPT_TIME', 'DLVR_CARALC_TIME',\n",
       "       'DLVR_RECPT_TIME', 'DLVR_COMPT_TIME'],\n",
       "      dtype='object')"
      ]
     },
     "execution_count": 5,
     "metadata": {},
     "output_type": "execute_result"
    }
   ],
   "source": [
    "raw.columns"
   ]
  },
  {
   "cell_type": "code",
   "execution_count": 6,
   "metadata": {},
   "outputs": [
    {
     "data": {
      "text/plain": [
       "array(['D0005898', 'D0000864', 'D0001526', ..., 'D0010412', 'D0010413',\n",
       "       'D0010428'], dtype=object)"
      ]
     },
     "execution_count": 6,
     "metadata": {},
     "output_type": "execute_result"
    }
   ],
   "source": [
    "raw[\"DLVR_MAN_ID\"].unique()"
   ]
  },
  {
   "cell_type": "markdown",
   "metadata": {},
   "source": [
    "행정동별 동일배달시간 구간 쏠림현상은 있는지 없는지\n",
    "\n",
    "1. 요일 컬럼\n",
    "2. 시간대 컬럼\n",
    "3. 배달 소요시간 컬럼\n",
    "\n",
    "\n",
    "경기도 지역 지도 보면서 인접지역을 묶어서 배달 라이더 배치를 몇군데 할건지\n",
    "배달 건수와 배달 걸리는시간을 고려해서 이지역에는 몇명배치하는게 적당할까? 배달한건당 몇분걸리니까 이런분석"
   ]
  },
  {
   "cell_type": "code",
   "execution_count": 7,
   "metadata": {},
   "outputs": [
    {
     "data": {
      "text/plain": [
       "(3173016, 22)"
      ]
     },
     "execution_count": 7,
     "metadata": {},
     "output_type": "execute_result"
    }
   ],
   "source": [
    "raw.shape"
   ]
  },
  {
   "cell_type": "code",
   "execution_count": 8,
   "metadata": {},
   "outputs": [
    {
     "data": {
      "text/plain": [
       "3150476"
      ]
     },
     "execution_count": 8,
     "metadata": {},
     "output_type": "execute_result"
    }
   ],
   "source": [
    "raw[\"SN\"].nunique()"
   ]
  },
  {
   "cell_type": "code",
   "execution_count": 9,
   "metadata": {},
   "outputs": [
    {
     "data": {
      "text/html": [
       "<div>\n",
       "<style scoped>\n",
       "    .dataframe tbody tr th:only-of-type {\n",
       "        vertical-align: middle;\n",
       "    }\n",
       "\n",
       "    .dataframe tbody tr th {\n",
       "        vertical-align: top;\n",
       "    }\n",
       "\n",
       "    .dataframe thead th {\n",
       "        text-align: right;\n",
       "    }\n",
       "</style>\n",
       "<table border=\"1\" class=\"dataframe\">\n",
       "  <thead>\n",
       "    <tr style=\"text-align: right;\">\n",
       "      <th></th>\n",
       "      <th>index</th>\n",
       "      <th>SN</th>\n",
       "    </tr>\n",
       "  </thead>\n",
       "  <tbody>\n",
       "    <tr>\n",
       "      <th>0</th>\n",
       "      <td>6610618</td>\n",
       "      <td>2</td>\n",
       "    </tr>\n",
       "    <tr>\n",
       "      <th>1</th>\n",
       "      <td>6640491</td>\n",
       "      <td>2</td>\n",
       "    </tr>\n",
       "    <tr>\n",
       "      <th>2</th>\n",
       "      <td>6642531</td>\n",
       "      <td>2</td>\n",
       "    </tr>\n",
       "    <tr>\n",
       "      <th>3</th>\n",
       "      <td>6618682</td>\n",
       "      <td>2</td>\n",
       "    </tr>\n",
       "    <tr>\n",
       "      <th>4</th>\n",
       "      <td>6616151</td>\n",
       "      <td>2</td>\n",
       "    </tr>\n",
       "    <tr>\n",
       "      <th>...</th>\n",
       "      <td>...</td>\n",
       "      <td>...</td>\n",
       "    </tr>\n",
       "    <tr>\n",
       "      <th>22535</th>\n",
       "      <td>6626297</td>\n",
       "      <td>2</td>\n",
       "    </tr>\n",
       "    <tr>\n",
       "      <th>22536</th>\n",
       "      <td>6647315</td>\n",
       "      <td>2</td>\n",
       "    </tr>\n",
       "    <tr>\n",
       "      <th>22537</th>\n",
       "      <td>6624248</td>\n",
       "      <td>2</td>\n",
       "    </tr>\n",
       "    <tr>\n",
       "      <th>22538</th>\n",
       "      <td>6608723</td>\n",
       "      <td>2</td>\n",
       "    </tr>\n",
       "    <tr>\n",
       "      <th>22539</th>\n",
       "      <td>6631267</td>\n",
       "      <td>2</td>\n",
       "    </tr>\n",
       "  </tbody>\n",
       "</table>\n",
       "<p>22540 rows × 2 columns</p>\n",
       "</div>"
      ],
      "text/plain": [
       "         index  SN\n",
       "0      6610618   2\n",
       "1      6640491   2\n",
       "2      6642531   2\n",
       "3      6618682   2\n",
       "4      6616151   2\n",
       "...        ...  ..\n",
       "22535  6626297   2\n",
       "22536  6647315   2\n",
       "22537  6624248   2\n",
       "22538  6608723   2\n",
       "22539  6631267   2\n",
       "\n",
       "[22540 rows x 2 columns]"
      ]
     },
     "execution_count": 9,
     "metadata": {},
     "output_type": "execute_result"
    }
   ],
   "source": [
    "index = raw[\"SN\"].value_counts().reset_index()\n",
    "index[index[\"SN\"] == 2]"
   ]
  },
  {
   "cell_type": "code",
   "execution_count": 10,
   "metadata": {},
   "outputs": [],
   "source": [
    "raw2 = raw.drop_duplicates(subset=None, keep='first', inplace=False, ignore_index=False)"
   ]
  },
  {
   "cell_type": "code",
   "execution_count": 11,
   "metadata": {},
   "outputs": [
    {
     "data": {
      "text/plain": [
       "(3173016, 22)"
      ]
     },
     "execution_count": 11,
     "metadata": {},
     "output_type": "execute_result"
    }
   ],
   "source": [
    "raw2.shape"
   ]
  },
  {
   "cell_type": "code",
   "execution_count": 12,
   "metadata": {},
   "outputs": [
    {
     "data": {
      "text/plain": [
       "3150476"
      ]
     },
     "execution_count": 12,
     "metadata": {},
     "output_type": "execute_result"
    }
   ],
   "source": [
    "raw2[\"SN\"].nunique()"
   ]
  },
  {
   "cell_type": "code",
   "execution_count": 13,
   "metadata": {},
   "outputs": [
    {
     "data": {
      "text/html": [
       "<div>\n",
       "<style scoped>\n",
       "    .dataframe tbody tr th:only-of-type {\n",
       "        vertical-align: middle;\n",
       "    }\n",
       "\n",
       "    .dataframe tbody tr th {\n",
       "        vertical-align: top;\n",
       "    }\n",
       "\n",
       "    .dataframe thead th {\n",
       "        text-align: right;\n",
       "    }\n",
       "</style>\n",
       "<table border=\"1\" class=\"dataframe\">\n",
       "  <thead>\n",
       "    <tr style=\"text-align: right;\">\n",
       "      <th></th>\n",
       "      <th>SN</th>\n",
       "      <th>PROCESS_DT</th>\n",
       "      <th>DLVR_REQUST_STTUS_VALUE</th>\n",
       "      <th>DLVR_STORE_INDUTY_NM</th>\n",
       "      <th>DLVR_STORE_BRTC_NM</th>\n",
       "      <th>DLVR_STORE_SIGNGU_NM</th>\n",
       "      <th>DLVR_STORE_LEGALDONG_NM</th>\n",
       "      <th>DLVR_STORE_LI_NM</th>\n",
       "      <th>DLVR_STORE_ADSTRD_CODE</th>\n",
       "      <th>DLVR_DSTN_BRTC_NM</th>\n",
       "      <th>...</th>\n",
       "      <th>DLVR_DSTN_LI_NM</th>\n",
       "      <th>DLVR_DSTN_ADSTRD_CODE</th>\n",
       "      <th>DLVR_MAN_ID</th>\n",
       "      <th>DLVR_AMOUNT</th>\n",
       "      <th>GOODS_AMOUNT</th>\n",
       "      <th>SETLE_KND_VALUE</th>\n",
       "      <th>DLVR_RCEPT_TIME</th>\n",
       "      <th>DLVR_CARALC_TIME</th>\n",
       "      <th>DLVR_RECPT_TIME</th>\n",
       "      <th>DLVR_COMPT_TIME</th>\n",
       "    </tr>\n",
       "  </thead>\n",
       "  <tbody>\n",
       "    <tr>\n",
       "      <th>1422904</th>\n",
       "      <td>6610618</td>\n",
       "      <td>2020-03-01</td>\n",
       "      <td>1</td>\n",
       "      <td>돈까스/일식</td>\n",
       "      <td>경기도</td>\n",
       "      <td>의정부시</td>\n",
       "      <td>민락동</td>\n",
       "      <td>\\N</td>\n",
       "      <td>4115057800</td>\n",
       "      <td>경기도</td>\n",
       "      <td>...</td>\n",
       "      <td>\\N</td>\n",
       "      <td>4115057800</td>\n",
       "      <td>D0007520</td>\n",
       "      <td>3500</td>\n",
       "      <td>35500</td>\n",
       "      <td>2</td>\n",
       "      <td>2020-03-01 12:58:12</td>\n",
       "      <td>2020-03-01 12:58:39</td>\n",
       "      <td>2020-03-01 13:13:34</td>\n",
       "      <td>2020-03-01 13:17:53</td>\n",
       "    </tr>\n",
       "    <tr>\n",
       "      <th>2624011</th>\n",
       "      <td>6610618</td>\n",
       "      <td>2020-03-01</td>\n",
       "      <td>1</td>\n",
       "      <td>돈까스/일식</td>\n",
       "      <td>경기도</td>\n",
       "      <td>의정부시</td>\n",
       "      <td>민락동</td>\n",
       "      <td>\\N</td>\n",
       "      <td>4115057800</td>\n",
       "      <td>경기도</td>\n",
       "      <td>...</td>\n",
       "      <td>\\N</td>\n",
       "      <td>4115057800</td>\n",
       "      <td>D0007520</td>\n",
       "      <td>3500</td>\n",
       "      <td>35500</td>\n",
       "      <td>2</td>\n",
       "      <td>2020-03-01 12:58</td>\n",
       "      <td>2020-03-01 12:58</td>\n",
       "      <td>2020-03-01 13:13</td>\n",
       "      <td>2020-03-01 13:17</td>\n",
       "    </tr>\n",
       "  </tbody>\n",
       "</table>\n",
       "<p>2 rows × 22 columns</p>\n",
       "</div>"
      ],
      "text/plain": [
       "              SN  PROCESS_DT  DLVR_REQUST_STTUS_VALUE DLVR_STORE_INDUTY_NM  \\\n",
       "1422904  6610618  2020-03-01                        1               돈까스/일식   \n",
       "2624011  6610618  2020-03-01                        1               돈까스/일식   \n",
       "\n",
       "        DLVR_STORE_BRTC_NM DLVR_STORE_SIGNGU_NM DLVR_STORE_LEGALDONG_NM  \\\n",
       "1422904                경기도                 의정부시                     민락동   \n",
       "2624011                경기도                 의정부시                     민락동   \n",
       "\n",
       "        DLVR_STORE_LI_NM  DLVR_STORE_ADSTRD_CODE DLVR_DSTN_BRTC_NM  ...  \\\n",
       "1422904               \\N              4115057800               경기도  ...   \n",
       "2624011               \\N              4115057800               경기도  ...   \n",
       "\n",
       "        DLVR_DSTN_LI_NM DLVR_DSTN_ADSTRD_CODE DLVR_MAN_ID DLVR_AMOUNT  \\\n",
       "1422904              \\N            4115057800    D0007520        3500   \n",
       "2624011              \\N            4115057800    D0007520        3500   \n",
       "\n",
       "        GOODS_AMOUNT  SETLE_KND_VALUE      DLVR_RCEPT_TIME  \\\n",
       "1422904        35500                2  2020-03-01 12:58:12   \n",
       "2624011        35500                2     2020-03-01 12:58   \n",
       "\n",
       "            DLVR_CARALC_TIME      DLVR_RECPT_TIME      DLVR_COMPT_TIME  \n",
       "1422904  2020-03-01 12:58:39  2020-03-01 13:13:34  2020-03-01 13:17:53  \n",
       "2624011     2020-03-01 12:58     2020-03-01 13:13     2020-03-01 13:17  \n",
       "\n",
       "[2 rows x 22 columns]"
      ]
     },
     "execution_count": 13,
     "metadata": {},
     "output_type": "execute_result"
    }
   ],
   "source": [
    "raw[raw[\"SN\"] == 6610618]"
   ]
  },
  {
   "cell_type": "code",
   "execution_count": 14,
   "metadata": {},
   "outputs": [],
   "source": [
    "raw['DLVR_RCEPT_TIME'] = pd.to_datetime(raw['DLVR_RCEPT_TIME'])\n",
    "raw['DLVR_COMPT_TIME'] = pd.to_datetime(raw['DLVR_COMPT_TIME'])\n"
   ]
  },
  {
   "cell_type": "code",
   "execution_count": 15,
   "metadata": {},
   "outputs": [],
   "source": [
    "raw[\"DLVR_RCEPT_TIME\"] = raw[\"DLVR_RCEPT_TIME\"].dt.strftime(\"%Y-%m-%d %H:%M\")\n",
    "raw[\"DLVR_COMPT_TIME\"] = raw[\"DLVR_COMPT_TIME\"].dt.strftime(\"%Y-%m-%d %H:%M\")\n"
   ]
  },
  {
   "cell_type": "code",
   "execution_count": 16,
   "metadata": {},
   "outputs": [
    {
     "data": {
      "text/plain": [
       "Index(['SN', 'PROCESS_DT', 'DLVR_REQUST_STTUS_VALUE', 'DLVR_STORE_INDUTY_NM',\n",
       "       'DLVR_STORE_BRTC_NM', 'DLVR_STORE_SIGNGU_NM', 'DLVR_STORE_LEGALDONG_NM',\n",
       "       'DLVR_STORE_LI_NM', 'DLVR_STORE_ADSTRD_CODE', 'DLVR_DSTN_BRTC_NM',\n",
       "       'DLVR_DSTN_SIGNGU_NM', 'DLVR_DSTN_LEGALDONG_NM', 'DLVR_DSTN_LI_NM',\n",
       "       'DLVR_DSTN_ADSTRD_CODE', 'DLVR_MAN_ID', 'DLVR_AMOUNT', 'GOODS_AMOUNT',\n",
       "       'SETLE_KND_VALUE', 'DLVR_RCEPT_TIME', 'DLVR_CARALC_TIME',\n",
       "       'DLVR_RECPT_TIME', 'DLVR_COMPT_TIME'],\n",
       "      dtype='object')"
      ]
     },
     "execution_count": 16,
     "metadata": {},
     "output_type": "execute_result"
    }
   ],
   "source": [
    "raw.columns"
   ]
  },
  {
   "cell_type": "code",
   "execution_count": 17,
   "metadata": {},
   "outputs": [],
   "source": [
    "raw = raw[['SN', 'PROCESS_DT', 'DLVR_REQUST_STTUS_VALUE', 'DLVR_STORE_INDUTY_NM', 'DLVR_STORE_BRTC_NM', 'DLVR_STORE_SIGNGU_NM', 'DLVR_STORE_LEGALDONG_NM',\n",
    "       'DLVR_STORE_LI_NM', 'DLVR_STORE_ADSTRD_CODE', 'DLVR_DSTN_BRTC_NM',\n",
    "       'DLVR_DSTN_SIGNGU_NM', 'DLVR_DSTN_LEGALDONG_NM', 'DLVR_DSTN_LI_NM',\n",
    "       'DLVR_DSTN_ADSTRD_CODE', 'DLVR_MAN_ID', 'DLVR_AMOUNT', 'GOODS_AMOUNT',\n",
    "       'SETLE_KND_VALUE', 'DLVR_RCEPT_TIME','DLVR_COMPT_TIME']]"
   ]
  },
  {
   "cell_type": "code",
   "execution_count": 18,
   "metadata": {},
   "outputs": [],
   "source": [
    "raw2 = raw.drop_duplicates(subset=None, keep='first', inplace=False, ignore_index=False)"
   ]
  },
  {
   "cell_type": "code",
   "execution_count": 19,
   "metadata": {},
   "outputs": [
    {
     "data": {
      "text/plain": [
       "3150476"
      ]
     },
     "execution_count": 19,
     "metadata": {},
     "output_type": "execute_result"
    }
   ],
   "source": [
    "raw2[\"SN\"].nunique()"
   ]
  },
  {
   "cell_type": "code",
   "execution_count": 20,
   "metadata": {},
   "outputs": [
    {
     "data": {
      "text/plain": [
       "(3150476, 20)"
      ]
     },
     "execution_count": 20,
     "metadata": {},
     "output_type": "execute_result"
    }
   ],
   "source": [
    "raw2.shape"
   ]
  },
  {
   "cell_type": "code",
   "execution_count": 21,
   "metadata": {},
   "outputs": [
    {
     "data": {
      "text/html": [
       "<div>\n",
       "<style scoped>\n",
       "    .dataframe tbody tr th:only-of-type {\n",
       "        vertical-align: middle;\n",
       "    }\n",
       "\n",
       "    .dataframe tbody tr th {\n",
       "        vertical-align: top;\n",
       "    }\n",
       "\n",
       "    .dataframe thead th {\n",
       "        text-align: right;\n",
       "    }\n",
       "</style>\n",
       "<table border=\"1\" class=\"dataframe\">\n",
       "  <thead>\n",
       "    <tr style=\"text-align: right;\">\n",
       "      <th></th>\n",
       "      <th>SN</th>\n",
       "      <th>PROCESS_DT</th>\n",
       "      <th>DLVR_REQUST_STTUS_VALUE</th>\n",
       "      <th>DLVR_STORE_INDUTY_NM</th>\n",
       "      <th>DLVR_STORE_BRTC_NM</th>\n",
       "      <th>DLVR_STORE_SIGNGU_NM</th>\n",
       "      <th>DLVR_STORE_LEGALDONG_NM</th>\n",
       "      <th>DLVR_STORE_LI_NM</th>\n",
       "      <th>DLVR_STORE_ADSTRD_CODE</th>\n",
       "      <th>DLVR_DSTN_BRTC_NM</th>\n",
       "      <th>DLVR_DSTN_SIGNGU_NM</th>\n",
       "      <th>DLVR_DSTN_LEGALDONG_NM</th>\n",
       "      <th>DLVR_DSTN_LI_NM</th>\n",
       "      <th>DLVR_DSTN_ADSTRD_CODE</th>\n",
       "      <th>DLVR_MAN_ID</th>\n",
       "      <th>DLVR_AMOUNT</th>\n",
       "      <th>GOODS_AMOUNT</th>\n",
       "      <th>SETLE_KND_VALUE</th>\n",
       "      <th>DLVR_RCEPT_TIME</th>\n",
       "      <th>DLVR_COMPT_TIME</th>\n",
       "    </tr>\n",
       "  </thead>\n",
       "  <tbody>\n",
       "    <tr>\n",
       "      <th>0</th>\n",
       "      <td>3486930</td>\n",
       "      <td>2019-12-01</td>\n",
       "      <td>1</td>\n",
       "      <td>치킨</td>\n",
       "      <td>경기도</td>\n",
       "      <td>고양시 일산동구</td>\n",
       "      <td>중산동</td>\n",
       "      <td>\\N</td>\n",
       "      <td>4128552000</td>\n",
       "      <td>경기도</td>\n",
       "      <td>고양시 일산동구</td>\n",
       "      <td>중산동</td>\n",
       "      <td>\\N</td>\n",
       "      <td>4128552000</td>\n",
       "      <td>D0005898</td>\n",
       "      <td>2900</td>\n",
       "      <td>21900</td>\n",
       "      <td>1</td>\n",
       "      <td>2019-12-01 21:58</td>\n",
       "      <td>2019-12-01 22:26</td>\n",
       "    </tr>\n",
       "    <tr>\n",
       "      <th>1</th>\n",
       "      <td>3486932</td>\n",
       "      <td>2019-12-01</td>\n",
       "      <td>1</td>\n",
       "      <td>치킨</td>\n",
       "      <td>경기도</td>\n",
       "      <td>의정부시</td>\n",
       "      <td>의정부동</td>\n",
       "      <td>\\N</td>\n",
       "      <td>4115051000</td>\n",
       "      <td>경기도</td>\n",
       "      <td>의정부시</td>\n",
       "      <td>녹양동</td>\n",
       "      <td>\\N</td>\n",
       "      <td>4115062000</td>\n",
       "      <td>D0000864</td>\n",
       "      <td>3500</td>\n",
       "      <td>19500</td>\n",
       "      <td>2</td>\n",
       "      <td>2019-12-01 22:20</td>\n",
       "      <td>2019-12-01 22:58</td>\n",
       "    </tr>\n",
       "    <tr>\n",
       "      <th>2</th>\n",
       "      <td>3486933</td>\n",
       "      <td>2019-12-01</td>\n",
       "      <td>1</td>\n",
       "      <td>돈까스/일식</td>\n",
       "      <td>경기도</td>\n",
       "      <td>고양시 일산동구</td>\n",
       "      <td>장항동</td>\n",
       "      <td>\\N</td>\n",
       "      <td>4128559000</td>\n",
       "      <td>경기도</td>\n",
       "      <td>고양시 일산동구</td>\n",
       "      <td>마두동</td>\n",
       "      <td>\\N</td>\n",
       "      <td>4128556000</td>\n",
       "      <td>D0001526</td>\n",
       "      <td>3500</td>\n",
       "      <td>18000</td>\n",
       "      <td>2</td>\n",
       "      <td>2019-12-01 21:40</td>\n",
       "      <td>2019-12-01 22:17</td>\n",
       "    </tr>\n",
       "    <tr>\n",
       "      <th>3</th>\n",
       "      <td>3486934</td>\n",
       "      <td>2019-12-01</td>\n",
       "      <td>1</td>\n",
       "      <td>치킨</td>\n",
       "      <td>경기도</td>\n",
       "      <td>의정부시</td>\n",
       "      <td>금오동</td>\n",
       "      <td>\\N</td>\n",
       "      <td>4115058000</td>\n",
       "      <td>경기도</td>\n",
       "      <td>의정부시</td>\n",
       "      <td>금오동</td>\n",
       "      <td>\\N</td>\n",
       "      <td>4115058000</td>\n",
       "      <td>D0000986</td>\n",
       "      <td>3500</td>\n",
       "      <td>18000</td>\n",
       "      <td>3</td>\n",
       "      <td>2019-12-01 19:44</td>\n",
       "      <td>2019-12-01 20:00</td>\n",
       "    </tr>\n",
       "    <tr>\n",
       "      <th>4</th>\n",
       "      <td>3486940</td>\n",
       "      <td>2019-12-01</td>\n",
       "      <td>1</td>\n",
       "      <td>아시안/양식</td>\n",
       "      <td>경기도</td>\n",
       "      <td>광명시</td>\n",
       "      <td>광명동</td>\n",
       "      <td>\\N</td>\n",
       "      <td>4121055000</td>\n",
       "      <td>경기도</td>\n",
       "      <td>광명시</td>\n",
       "      <td>철산동</td>\n",
       "      <td>\\N</td>\n",
       "      <td>4121060000</td>\n",
       "      <td>D0003991</td>\n",
       "      <td>3300</td>\n",
       "      <td>19000</td>\n",
       "      <td>2</td>\n",
       "      <td>2019-12-01 19:08</td>\n",
       "      <td>2019-12-01 19:58</td>\n",
       "    </tr>\n",
       "  </tbody>\n",
       "</table>\n",
       "</div>"
      ],
      "text/plain": [
       "        SN  PROCESS_DT  DLVR_REQUST_STTUS_VALUE DLVR_STORE_INDUTY_NM  \\\n",
       "0  3486930  2019-12-01                        1                   치킨   \n",
       "1  3486932  2019-12-01                        1                   치킨   \n",
       "2  3486933  2019-12-01                        1               돈까스/일식   \n",
       "3  3486934  2019-12-01                        1                   치킨   \n",
       "4  3486940  2019-12-01                        1               아시안/양식   \n",
       "\n",
       "  DLVR_STORE_BRTC_NM DLVR_STORE_SIGNGU_NM DLVR_STORE_LEGALDONG_NM  \\\n",
       "0                경기도             고양시 일산동구                     중산동   \n",
       "1                경기도                 의정부시                    의정부동   \n",
       "2                경기도             고양시 일산동구                     장항동   \n",
       "3                경기도                 의정부시                     금오동   \n",
       "4                경기도                  광명시                     광명동   \n",
       "\n",
       "  DLVR_STORE_LI_NM  DLVR_STORE_ADSTRD_CODE DLVR_DSTN_BRTC_NM  \\\n",
       "0               \\N              4128552000               경기도   \n",
       "1               \\N              4115051000               경기도   \n",
       "2               \\N              4128559000               경기도   \n",
       "3               \\N              4115058000               경기도   \n",
       "4               \\N              4121055000               경기도   \n",
       "\n",
       "  DLVR_DSTN_SIGNGU_NM DLVR_DSTN_LEGALDONG_NM DLVR_DSTN_LI_NM  \\\n",
       "0            고양시 일산동구                    중산동              \\N   \n",
       "1                의정부시                    녹양동              \\N   \n",
       "2            고양시 일산동구                    마두동              \\N   \n",
       "3                의정부시                    금오동              \\N   \n",
       "4                 광명시                    철산동              \\N   \n",
       "\n",
       "  DLVR_DSTN_ADSTRD_CODE DLVR_MAN_ID  DLVR_AMOUNT  GOODS_AMOUNT  \\\n",
       "0            4128552000    D0005898         2900         21900   \n",
       "1            4115062000    D0000864         3500         19500   \n",
       "2            4128556000    D0001526         3500         18000   \n",
       "3            4115058000    D0000986         3500         18000   \n",
       "4            4121060000    D0003991         3300         19000   \n",
       "\n",
       "   SETLE_KND_VALUE   DLVR_RCEPT_TIME   DLVR_COMPT_TIME  \n",
       "0                1  2019-12-01 21:58  2019-12-01 22:26  \n",
       "1                2  2019-12-01 22:20  2019-12-01 22:58  \n",
       "2                2  2019-12-01 21:40  2019-12-01 22:17  \n",
       "3                3  2019-12-01 19:44  2019-12-01 20:00  \n",
       "4                2  2019-12-01 19:08  2019-12-01 19:58  "
      ]
     },
     "execution_count": 21,
     "metadata": {},
     "output_type": "execute_result"
    }
   ],
   "source": [
    "raw2.head()"
   ]
  },
  {
   "cell_type": "code",
   "execution_count": 23,
   "metadata": {},
   "outputs": [
    {
     "name": "stderr",
     "output_type": "stream",
     "text": [
      "<ipython-input-23-d4f4618b2d37>:1: SettingWithCopyWarning: \n",
      "A value is trying to be set on a copy of a slice from a DataFrame.\n",
      "Try using .loc[row_indexer,col_indexer] = value instead\n",
      "\n",
      "See the caveats in the documentation: https://pandas.pydata.org/pandas-docs/stable/user_guide/indexing.html#returning-a-view-versus-a-copy\n",
      "  raw2['DLVR_RCEPT_TIME'] = pd.to_datetime(raw2['DLVR_RCEPT_TIME'])\n",
      "<ipython-input-23-d4f4618b2d37>:2: SettingWithCopyWarning: \n",
      "A value is trying to be set on a copy of a slice from a DataFrame.\n",
      "Try using .loc[row_indexer,col_indexer] = value instead\n",
      "\n",
      "See the caveats in the documentation: https://pandas.pydata.org/pandas-docs/stable/user_guide/indexing.html#returning-a-view-versus-a-copy\n",
      "  raw2['DLVR_COMPT_TIME'] = pd.to_datetime(raw2['DLVR_COMPT_TIME'])\n"
     ]
    }
   ],
   "source": [
    "raw2['DLVR_RCEPT_TIME'] = pd.to_datetime(raw2['DLVR_RCEPT_TIME'])\n",
    "raw2['DLVR_COMPT_TIME'] = pd.to_datetime(raw2['DLVR_COMPT_TIME'])"
   ]
  },
  {
   "cell_type": "code",
   "execution_count": 24,
   "metadata": {},
   "outputs": [
    {
     "name": "stderr",
     "output_type": "stream",
     "text": [
      "<ipython-input-24-1cb26da86657>:1: SettingWithCopyWarning: \n",
      "A value is trying to be set on a copy of a slice from a DataFrame.\n",
      "Try using .loc[row_indexer,col_indexer] = value instead\n",
      "\n",
      "See the caveats in the documentation: https://pandas.pydata.org/pandas-docs/stable/user_guide/indexing.html#returning-a-view-versus-a-copy\n",
      "  raw2[\"DLVR_TIME\"] = raw2[\"DLVR_COMPT_TIME\"] - raw2[\"DLVR_RCEPT_TIME\"]\n"
     ]
    }
   ],
   "source": [
    "raw2[\"DLVR_TIME\"] = raw2[\"DLVR_COMPT_TIME\"] - raw2[\"DLVR_RCEPT_TIME\"]"
   ]
  },
  {
   "cell_type": "code",
   "execution_count": 25,
   "metadata": {},
   "outputs": [
    {
     "name": "stdout",
     "output_type": "stream",
     "text": [
      "<class 'pandas.core.frame.DataFrame'>\n",
      "Int64Index: 3150476 entries, 0 to 3173015\n",
      "Data columns (total 21 columns):\n",
      " #   Column                   Dtype          \n",
      "---  ------                   -----          \n",
      " 0   SN                       int64          \n",
      " 1   PROCESS_DT               object         \n",
      " 2   DLVR_REQUST_STTUS_VALUE  int64          \n",
      " 3   DLVR_STORE_INDUTY_NM     object         \n",
      " 4   DLVR_STORE_BRTC_NM       object         \n",
      " 5   DLVR_STORE_SIGNGU_NM     object         \n",
      " 6   DLVR_STORE_LEGALDONG_NM  object         \n",
      " 7   DLVR_STORE_LI_NM         object         \n",
      " 8   DLVR_STORE_ADSTRD_CODE   int64          \n",
      " 9   DLVR_DSTN_BRTC_NM        object         \n",
      " 10  DLVR_DSTN_SIGNGU_NM      object         \n",
      " 11  DLVR_DSTN_LEGALDONG_NM   object         \n",
      " 12  DLVR_DSTN_LI_NM          object         \n",
      " 13  DLVR_DSTN_ADSTRD_CODE    object         \n",
      " 14  DLVR_MAN_ID              object         \n",
      " 15  DLVR_AMOUNT              int64          \n",
      " 16  GOODS_AMOUNT             int64          \n",
      " 17  SETLE_KND_VALUE          int64          \n",
      " 18  DLVR_RCEPT_TIME          datetime64[ns] \n",
      " 19  DLVR_COMPT_TIME          datetime64[ns] \n",
      " 20  DLVR_TIME                timedelta64[ns]\n",
      "dtypes: datetime64[ns](2), int64(6), object(12), timedelta64[ns](1)\n",
      "memory usage: 528.8+ MB\n"
     ]
    }
   ],
   "source": [
    "raw2.info()"
   ]
  },
  {
   "cell_type": "code",
   "execution_count": 26,
   "metadata": {},
   "outputs": [
    {
     "data": {
      "text/html": [
       "<div>\n",
       "<style scoped>\n",
       "    .dataframe tbody tr th:only-of-type {\n",
       "        vertical-align: middle;\n",
       "    }\n",
       "\n",
       "    .dataframe tbody tr th {\n",
       "        vertical-align: top;\n",
       "    }\n",
       "\n",
       "    .dataframe thead th {\n",
       "        text-align: right;\n",
       "    }\n",
       "</style>\n",
       "<table border=\"1\" class=\"dataframe\">\n",
       "  <thead>\n",
       "    <tr style=\"text-align: right;\">\n",
       "      <th></th>\n",
       "      <th>SN</th>\n",
       "      <th>PROCESS_DT</th>\n",
       "      <th>DLVR_REQUST_STTUS_VALUE</th>\n",
       "      <th>DLVR_STORE_INDUTY_NM</th>\n",
       "      <th>DLVR_STORE_BRTC_NM</th>\n",
       "      <th>DLVR_STORE_SIGNGU_NM</th>\n",
       "      <th>DLVR_STORE_LEGALDONG_NM</th>\n",
       "      <th>DLVR_STORE_LI_NM</th>\n",
       "      <th>DLVR_STORE_ADSTRD_CODE</th>\n",
       "      <th>DLVR_DSTN_BRTC_NM</th>\n",
       "      <th>...</th>\n",
       "      <th>DLVR_DSTN_LEGALDONG_NM</th>\n",
       "      <th>DLVR_DSTN_LI_NM</th>\n",
       "      <th>DLVR_DSTN_ADSTRD_CODE</th>\n",
       "      <th>DLVR_MAN_ID</th>\n",
       "      <th>DLVR_AMOUNT</th>\n",
       "      <th>GOODS_AMOUNT</th>\n",
       "      <th>SETLE_KND_VALUE</th>\n",
       "      <th>DLVR_RCEPT_TIME</th>\n",
       "      <th>DLVR_COMPT_TIME</th>\n",
       "      <th>DLVR_TIME</th>\n",
       "    </tr>\n",
       "  </thead>\n",
       "  <tbody>\n",
       "    <tr>\n",
       "      <th>0</th>\n",
       "      <td>3486930</td>\n",
       "      <td>2019-12-01</td>\n",
       "      <td>1</td>\n",
       "      <td>치킨</td>\n",
       "      <td>경기도</td>\n",
       "      <td>고양시 일산동구</td>\n",
       "      <td>중산동</td>\n",
       "      <td>\\N</td>\n",
       "      <td>4128552000</td>\n",
       "      <td>경기도</td>\n",
       "      <td>...</td>\n",
       "      <td>중산동</td>\n",
       "      <td>\\N</td>\n",
       "      <td>4128552000</td>\n",
       "      <td>D0005898</td>\n",
       "      <td>2900</td>\n",
       "      <td>21900</td>\n",
       "      <td>1</td>\n",
       "      <td>2019-12-01 21:58:00</td>\n",
       "      <td>2019-12-01 22:26:00</td>\n",
       "      <td>0 days 00:28:00</td>\n",
       "    </tr>\n",
       "    <tr>\n",
       "      <th>1</th>\n",
       "      <td>3486932</td>\n",
       "      <td>2019-12-01</td>\n",
       "      <td>1</td>\n",
       "      <td>치킨</td>\n",
       "      <td>경기도</td>\n",
       "      <td>의정부시</td>\n",
       "      <td>의정부동</td>\n",
       "      <td>\\N</td>\n",
       "      <td>4115051000</td>\n",
       "      <td>경기도</td>\n",
       "      <td>...</td>\n",
       "      <td>녹양동</td>\n",
       "      <td>\\N</td>\n",
       "      <td>4115062000</td>\n",
       "      <td>D0000864</td>\n",
       "      <td>3500</td>\n",
       "      <td>19500</td>\n",
       "      <td>2</td>\n",
       "      <td>2019-12-01 22:20:00</td>\n",
       "      <td>2019-12-01 22:58:00</td>\n",
       "      <td>0 days 00:38:00</td>\n",
       "    </tr>\n",
       "    <tr>\n",
       "      <th>2</th>\n",
       "      <td>3486933</td>\n",
       "      <td>2019-12-01</td>\n",
       "      <td>1</td>\n",
       "      <td>돈까스/일식</td>\n",
       "      <td>경기도</td>\n",
       "      <td>고양시 일산동구</td>\n",
       "      <td>장항동</td>\n",
       "      <td>\\N</td>\n",
       "      <td>4128559000</td>\n",
       "      <td>경기도</td>\n",
       "      <td>...</td>\n",
       "      <td>마두동</td>\n",
       "      <td>\\N</td>\n",
       "      <td>4128556000</td>\n",
       "      <td>D0001526</td>\n",
       "      <td>3500</td>\n",
       "      <td>18000</td>\n",
       "      <td>2</td>\n",
       "      <td>2019-12-01 21:40:00</td>\n",
       "      <td>2019-12-01 22:17:00</td>\n",
       "      <td>0 days 00:37:00</td>\n",
       "    </tr>\n",
       "    <tr>\n",
       "      <th>3</th>\n",
       "      <td>3486934</td>\n",
       "      <td>2019-12-01</td>\n",
       "      <td>1</td>\n",
       "      <td>치킨</td>\n",
       "      <td>경기도</td>\n",
       "      <td>의정부시</td>\n",
       "      <td>금오동</td>\n",
       "      <td>\\N</td>\n",
       "      <td>4115058000</td>\n",
       "      <td>경기도</td>\n",
       "      <td>...</td>\n",
       "      <td>금오동</td>\n",
       "      <td>\\N</td>\n",
       "      <td>4115058000</td>\n",
       "      <td>D0000986</td>\n",
       "      <td>3500</td>\n",
       "      <td>18000</td>\n",
       "      <td>3</td>\n",
       "      <td>2019-12-01 19:44:00</td>\n",
       "      <td>2019-12-01 20:00:00</td>\n",
       "      <td>0 days 00:16:00</td>\n",
       "    </tr>\n",
       "    <tr>\n",
       "      <th>4</th>\n",
       "      <td>3486940</td>\n",
       "      <td>2019-12-01</td>\n",
       "      <td>1</td>\n",
       "      <td>아시안/양식</td>\n",
       "      <td>경기도</td>\n",
       "      <td>광명시</td>\n",
       "      <td>광명동</td>\n",
       "      <td>\\N</td>\n",
       "      <td>4121055000</td>\n",
       "      <td>경기도</td>\n",
       "      <td>...</td>\n",
       "      <td>철산동</td>\n",
       "      <td>\\N</td>\n",
       "      <td>4121060000</td>\n",
       "      <td>D0003991</td>\n",
       "      <td>3300</td>\n",
       "      <td>19000</td>\n",
       "      <td>2</td>\n",
       "      <td>2019-12-01 19:08:00</td>\n",
       "      <td>2019-12-01 19:58:00</td>\n",
       "      <td>0 days 00:50:00</td>\n",
       "    </tr>\n",
       "  </tbody>\n",
       "</table>\n",
       "<p>5 rows × 21 columns</p>\n",
       "</div>"
      ],
      "text/plain": [
       "        SN  PROCESS_DT  DLVR_REQUST_STTUS_VALUE DLVR_STORE_INDUTY_NM  \\\n",
       "0  3486930  2019-12-01                        1                   치킨   \n",
       "1  3486932  2019-12-01                        1                   치킨   \n",
       "2  3486933  2019-12-01                        1               돈까스/일식   \n",
       "3  3486934  2019-12-01                        1                   치킨   \n",
       "4  3486940  2019-12-01                        1               아시안/양식   \n",
       "\n",
       "  DLVR_STORE_BRTC_NM DLVR_STORE_SIGNGU_NM DLVR_STORE_LEGALDONG_NM  \\\n",
       "0                경기도             고양시 일산동구                     중산동   \n",
       "1                경기도                 의정부시                    의정부동   \n",
       "2                경기도             고양시 일산동구                     장항동   \n",
       "3                경기도                 의정부시                     금오동   \n",
       "4                경기도                  광명시                     광명동   \n",
       "\n",
       "  DLVR_STORE_LI_NM  DLVR_STORE_ADSTRD_CODE DLVR_DSTN_BRTC_NM  ...  \\\n",
       "0               \\N              4128552000               경기도  ...   \n",
       "1               \\N              4115051000               경기도  ...   \n",
       "2               \\N              4128559000               경기도  ...   \n",
       "3               \\N              4115058000               경기도  ...   \n",
       "4               \\N              4121055000               경기도  ...   \n",
       "\n",
       "  DLVR_DSTN_LEGALDONG_NM DLVR_DSTN_LI_NM DLVR_DSTN_ADSTRD_CODE DLVR_MAN_ID  \\\n",
       "0                    중산동              \\N            4128552000    D0005898   \n",
       "1                    녹양동              \\N            4115062000    D0000864   \n",
       "2                    마두동              \\N            4128556000    D0001526   \n",
       "3                    금오동              \\N            4115058000    D0000986   \n",
       "4                    철산동              \\N            4121060000    D0003991   \n",
       "\n",
       "  DLVR_AMOUNT  GOODS_AMOUNT  SETLE_KND_VALUE     DLVR_RCEPT_TIME  \\\n",
       "0        2900         21900                1 2019-12-01 21:58:00   \n",
       "1        3500         19500                2 2019-12-01 22:20:00   \n",
       "2        3500         18000                2 2019-12-01 21:40:00   \n",
       "3        3500         18000                3 2019-12-01 19:44:00   \n",
       "4        3300         19000                2 2019-12-01 19:08:00   \n",
       "\n",
       "      DLVR_COMPT_TIME       DLVR_TIME  \n",
       "0 2019-12-01 22:26:00 0 days 00:28:00  \n",
       "1 2019-12-01 22:58:00 0 days 00:38:00  \n",
       "2 2019-12-01 22:17:00 0 days 00:37:00  \n",
       "3 2019-12-01 20:00:00 0 days 00:16:00  \n",
       "4 2019-12-01 19:58:00 0 days 00:50:00  \n",
       "\n",
       "[5 rows x 21 columns]"
      ]
     },
     "execution_count": 26,
     "metadata": {},
     "output_type": "execute_result"
    }
   ],
   "source": [
    "raw2.head()"
   ]
  },
  {
   "cell_type": "code",
   "execution_count": 28,
   "metadata": {},
   "outputs": [
    {
     "name": "stderr",
     "output_type": "stream",
     "text": [
      "<ipython-input-28-a3122c199d5a>:1: SettingWithCopyWarning: \n",
      "A value is trying to be set on a copy of a slice from a DataFrame.\n",
      "Try using .loc[row_indexer,col_indexer] = value instead\n",
      "\n",
      "See the caveats in the documentation: https://pandas.pydata.org/pandas-docs/stable/user_guide/indexing.html#returning-a-view-versus-a-copy\n",
      "  raw2[\"DLVR_TIME_int\"] = pd.to_numeric(raw2[\"DLVR_TIME\"]/60/1000000000)\n"
     ]
    }
   ],
   "source": [
    "raw2[\"DLVR_TIME_int\"] = pd.to_numeric(raw2[\"DLVR_TIME\"]/60/1000000000)"
   ]
  },
  {
   "cell_type": "code",
   "execution_count": 29,
   "metadata": {},
   "outputs": [
    {
     "data": {
      "text/html": [
       "<div>\n",
       "<style scoped>\n",
       "    .dataframe tbody tr th:only-of-type {\n",
       "        vertical-align: middle;\n",
       "    }\n",
       "\n",
       "    .dataframe tbody tr th {\n",
       "        vertical-align: top;\n",
       "    }\n",
       "\n",
       "    .dataframe thead th {\n",
       "        text-align: right;\n",
       "    }\n",
       "</style>\n",
       "<table border=\"1\" class=\"dataframe\">\n",
       "  <thead>\n",
       "    <tr style=\"text-align: right;\">\n",
       "      <th></th>\n",
       "      <th>SN</th>\n",
       "      <th>PROCESS_DT</th>\n",
       "      <th>DLVR_REQUST_STTUS_VALUE</th>\n",
       "      <th>DLVR_STORE_INDUTY_NM</th>\n",
       "      <th>DLVR_STORE_BRTC_NM</th>\n",
       "      <th>DLVR_STORE_SIGNGU_NM</th>\n",
       "      <th>DLVR_STORE_LEGALDONG_NM</th>\n",
       "      <th>DLVR_STORE_LI_NM</th>\n",
       "      <th>DLVR_STORE_ADSTRD_CODE</th>\n",
       "      <th>DLVR_DSTN_BRTC_NM</th>\n",
       "      <th>...</th>\n",
       "      <th>DLVR_DSTN_LI_NM</th>\n",
       "      <th>DLVR_DSTN_ADSTRD_CODE</th>\n",
       "      <th>DLVR_MAN_ID</th>\n",
       "      <th>DLVR_AMOUNT</th>\n",
       "      <th>GOODS_AMOUNT</th>\n",
       "      <th>SETLE_KND_VALUE</th>\n",
       "      <th>DLVR_RCEPT_TIME</th>\n",
       "      <th>DLVR_COMPT_TIME</th>\n",
       "      <th>DLVR_TIME</th>\n",
       "      <th>DLVR_TIME_int</th>\n",
       "    </tr>\n",
       "  </thead>\n",
       "  <tbody>\n",
       "    <tr>\n",
       "      <th>0</th>\n",
       "      <td>3486930</td>\n",
       "      <td>2019-12-01</td>\n",
       "      <td>1</td>\n",
       "      <td>치킨</td>\n",
       "      <td>경기도</td>\n",
       "      <td>고양시 일산동구</td>\n",
       "      <td>중산동</td>\n",
       "      <td>\\N</td>\n",
       "      <td>4128552000</td>\n",
       "      <td>경기도</td>\n",
       "      <td>...</td>\n",
       "      <td>\\N</td>\n",
       "      <td>4128552000</td>\n",
       "      <td>D0005898</td>\n",
       "      <td>2900</td>\n",
       "      <td>21900</td>\n",
       "      <td>1</td>\n",
       "      <td>2019-12-01 21:58:00</td>\n",
       "      <td>2019-12-01 22:26:00</td>\n",
       "      <td>0 days 00:28:00</td>\n",
       "      <td>28</td>\n",
       "    </tr>\n",
       "    <tr>\n",
       "      <th>1</th>\n",
       "      <td>3486932</td>\n",
       "      <td>2019-12-01</td>\n",
       "      <td>1</td>\n",
       "      <td>치킨</td>\n",
       "      <td>경기도</td>\n",
       "      <td>의정부시</td>\n",
       "      <td>의정부동</td>\n",
       "      <td>\\N</td>\n",
       "      <td>4115051000</td>\n",
       "      <td>경기도</td>\n",
       "      <td>...</td>\n",
       "      <td>\\N</td>\n",
       "      <td>4115062000</td>\n",
       "      <td>D0000864</td>\n",
       "      <td>3500</td>\n",
       "      <td>19500</td>\n",
       "      <td>2</td>\n",
       "      <td>2019-12-01 22:20:00</td>\n",
       "      <td>2019-12-01 22:58:00</td>\n",
       "      <td>0 days 00:38:00</td>\n",
       "      <td>38</td>\n",
       "    </tr>\n",
       "    <tr>\n",
       "      <th>2</th>\n",
       "      <td>3486933</td>\n",
       "      <td>2019-12-01</td>\n",
       "      <td>1</td>\n",
       "      <td>돈까스/일식</td>\n",
       "      <td>경기도</td>\n",
       "      <td>고양시 일산동구</td>\n",
       "      <td>장항동</td>\n",
       "      <td>\\N</td>\n",
       "      <td>4128559000</td>\n",
       "      <td>경기도</td>\n",
       "      <td>...</td>\n",
       "      <td>\\N</td>\n",
       "      <td>4128556000</td>\n",
       "      <td>D0001526</td>\n",
       "      <td>3500</td>\n",
       "      <td>18000</td>\n",
       "      <td>2</td>\n",
       "      <td>2019-12-01 21:40:00</td>\n",
       "      <td>2019-12-01 22:17:00</td>\n",
       "      <td>0 days 00:37:00</td>\n",
       "      <td>37</td>\n",
       "    </tr>\n",
       "    <tr>\n",
       "      <th>3</th>\n",
       "      <td>3486934</td>\n",
       "      <td>2019-12-01</td>\n",
       "      <td>1</td>\n",
       "      <td>치킨</td>\n",
       "      <td>경기도</td>\n",
       "      <td>의정부시</td>\n",
       "      <td>금오동</td>\n",
       "      <td>\\N</td>\n",
       "      <td>4115058000</td>\n",
       "      <td>경기도</td>\n",
       "      <td>...</td>\n",
       "      <td>\\N</td>\n",
       "      <td>4115058000</td>\n",
       "      <td>D0000986</td>\n",
       "      <td>3500</td>\n",
       "      <td>18000</td>\n",
       "      <td>3</td>\n",
       "      <td>2019-12-01 19:44:00</td>\n",
       "      <td>2019-12-01 20:00:00</td>\n",
       "      <td>0 days 00:16:00</td>\n",
       "      <td>16</td>\n",
       "    </tr>\n",
       "    <tr>\n",
       "      <th>4</th>\n",
       "      <td>3486940</td>\n",
       "      <td>2019-12-01</td>\n",
       "      <td>1</td>\n",
       "      <td>아시안/양식</td>\n",
       "      <td>경기도</td>\n",
       "      <td>광명시</td>\n",
       "      <td>광명동</td>\n",
       "      <td>\\N</td>\n",
       "      <td>4121055000</td>\n",
       "      <td>경기도</td>\n",
       "      <td>...</td>\n",
       "      <td>\\N</td>\n",
       "      <td>4121060000</td>\n",
       "      <td>D0003991</td>\n",
       "      <td>3300</td>\n",
       "      <td>19000</td>\n",
       "      <td>2</td>\n",
       "      <td>2019-12-01 19:08:00</td>\n",
       "      <td>2019-12-01 19:58:00</td>\n",
       "      <td>0 days 00:50:00</td>\n",
       "      <td>50</td>\n",
       "    </tr>\n",
       "  </tbody>\n",
       "</table>\n",
       "<p>5 rows × 22 columns</p>\n",
       "</div>"
      ],
      "text/plain": [
       "        SN  PROCESS_DT  DLVR_REQUST_STTUS_VALUE DLVR_STORE_INDUTY_NM  \\\n",
       "0  3486930  2019-12-01                        1                   치킨   \n",
       "1  3486932  2019-12-01                        1                   치킨   \n",
       "2  3486933  2019-12-01                        1               돈까스/일식   \n",
       "3  3486934  2019-12-01                        1                   치킨   \n",
       "4  3486940  2019-12-01                        1               아시안/양식   \n",
       "\n",
       "  DLVR_STORE_BRTC_NM DLVR_STORE_SIGNGU_NM DLVR_STORE_LEGALDONG_NM  \\\n",
       "0                경기도             고양시 일산동구                     중산동   \n",
       "1                경기도                 의정부시                    의정부동   \n",
       "2                경기도             고양시 일산동구                     장항동   \n",
       "3                경기도                 의정부시                     금오동   \n",
       "4                경기도                  광명시                     광명동   \n",
       "\n",
       "  DLVR_STORE_LI_NM  DLVR_STORE_ADSTRD_CODE DLVR_DSTN_BRTC_NM  ...  \\\n",
       "0               \\N              4128552000               경기도  ...   \n",
       "1               \\N              4115051000               경기도  ...   \n",
       "2               \\N              4128559000               경기도  ...   \n",
       "3               \\N              4115058000               경기도  ...   \n",
       "4               \\N              4121055000               경기도  ...   \n",
       "\n",
       "  DLVR_DSTN_LI_NM DLVR_DSTN_ADSTRD_CODE DLVR_MAN_ID DLVR_AMOUNT GOODS_AMOUNT  \\\n",
       "0              \\N            4128552000    D0005898        2900        21900   \n",
       "1              \\N            4115062000    D0000864        3500        19500   \n",
       "2              \\N            4128556000    D0001526        3500        18000   \n",
       "3              \\N            4115058000    D0000986        3500        18000   \n",
       "4              \\N            4121060000    D0003991        3300        19000   \n",
       "\n",
       "   SETLE_KND_VALUE     DLVR_RCEPT_TIME     DLVR_COMPT_TIME       DLVR_TIME  \\\n",
       "0                1 2019-12-01 21:58:00 2019-12-01 22:26:00 0 days 00:28:00   \n",
       "1                2 2019-12-01 22:20:00 2019-12-01 22:58:00 0 days 00:38:00   \n",
       "2                2 2019-12-01 21:40:00 2019-12-01 22:17:00 0 days 00:37:00   \n",
       "3                3 2019-12-01 19:44:00 2019-12-01 20:00:00 0 days 00:16:00   \n",
       "4                2 2019-12-01 19:08:00 2019-12-01 19:58:00 0 days 00:50:00   \n",
       "\n",
       "  DLVR_TIME_int  \n",
       "0            28  \n",
       "1            38  \n",
       "2            37  \n",
       "3            16  \n",
       "4            50  \n",
       "\n",
       "[5 rows x 22 columns]"
      ]
     },
     "execution_count": 29,
     "metadata": {},
     "output_type": "execute_result"
    }
   ],
   "source": [
    "raw2.head()"
   ]
  },
  {
   "cell_type": "code",
   "execution_count": 32,
   "metadata": {},
   "outputs": [
    {
     "data": {
      "text/plain": [
       "<AxesSubplot:xlabel='DLVR_STORE_INDUTY_NM'>"
      ]
     },
     "execution_count": 32,
     "metadata": {},
     "output_type": "execute_result"
    },
    {
     "data": {
      "image/png": "[encoded data removed]",
      "text/plain": [
       "<Figure size 432x288 with 1 Axes>"
      ]
     },
     "metadata": {
      "image/png": {
       "height": 313,
       "width": 367
      },
      "needs_background": "light"
     },
     "output_type": "display_data"
    }
   ],
   "source": [
    "raw2.groupby([\"DLVR_STORE_INDUTY_NM\"])[\"DLVR_TIME_int\"].mean().sort_values(ascending=False).plot.bar()"
   ]
  },
  {
   "cell_type": "code",
   "execution_count": 37,
   "metadata": {},
   "outputs": [
    {
     "data": {
      "text/plain": [
       "<AxesSubplot:xlabel='DLVR_STORE_LEGALDONG_NM'>"
      ]
     },
     "execution_count": 37,
     "metadata": {},
     "output_type": "execute_result"
    },
    {
     "data": {
      "image/png": "[encoded data removed]",
      "text/plain": [
       "<Figure size 432x288 with 1 Axes>"
      ]
     },
     "metadata": {
      "image/png": {
       "height": 293,
       "width": 382
      },
      "needs_background": "light"
     },
     "output_type": "display_data"
    }
   ],
   "source": [
    "raw2.groupby([\"DLVR_STORE_LEGALDONG_NM\"])[\"DLVR_TIME_int\"].mean().sort_values(ascending=False).plot.bar()"
   ]
  },
  {
   "cell_type": "code",
   "execution_count": 41,
   "metadata": {},
   "outputs": [
    {
     "data": {
      "text/plain": [
       "<AxesSubplot:xlabel='DLVR_STORE_SIGNGU_NM', ylabel='DLVR_TIME_int'>"
      ]
     },
     "execution_count": 41,
     "metadata": {},
     "output_type": "execute_result"
    },
    {
     "data": {
      "image/png": "[encoded data removed]",
      "text/plain": [
       "<Figure size 1440x576 with 1 Axes>"
      ]
     },
     "metadata": {
      "image/png": {
       "height": 543,
       "width": 1173
      },
      "needs_background": "light"
     },
     "output_type": "display_data"
    }
   ],
   "source": [
    "#업종을 x축으로 시각화\n",
    "plt.figure(figsize=(20, 8))\n",
    "plt.xticks(rotation = 70 )\n",
    "sns.boxplot(data=raw2, x=\"DLVR_STORE_SIGNGU_NM\", y=\"DLVR_TIME_int\")"
   ]
  },
  {
   "cell_type": "code",
   "execution_count": 42,
   "metadata": {},
   "outputs": [
    {
     "data": {
      "text/plain": [
       "array(['경기도'], dtype=object)"
      ]
     },
     "execution_count": 42,
     "metadata": {},
     "output_type": "execute_result"
    }
   ],
   "source": [
    "raw2[\"DLVR_STORE_BRTC_NM\"].unique()"
   ]
  },
  {
   "cell_type": "code",
   "execution_count": 45,
   "metadata": {},
   "outputs": [
    {
     "data": {
      "text/plain": [
       "25.089813412322457"
      ]
     },
     "execution_count": 45,
     "metadata": {},
     "output_type": "execute_result"
    }
   ],
   "source": [
    "#평균 배달시간\n",
    "raw2[\"DLVR_TIME_int\"].mean()"
   ]
  },
  {
   "cell_type": "code",
   "execution_count": 52,
   "metadata": {},
   "outputs": [
    {
     "data": {
      "text/plain": [
       "count   3150476.00000\n",
       "mean         25.08981\n",
       "std          22.98647\n",
       "min           0.00000\n",
       "25%          17.00000\n",
       "50%          23.00000\n",
       "75%          30.00000\n",
       "max        1360.00000\n",
       "Name: DLVR_TIME_int, dtype: float64"
      ]
     },
     "execution_count": 52,
     "metadata": {},
     "output_type": "execute_result"
    }
   ],
   "source": [
    "pd.options.display.float_format = '{:.5f}'.format\n",
    "\n",
    "raw2[\"DLVR_TIME_int\"].describe()"
   ]
  },
  {
   "cell_type": "code",
   "execution_count": 51,
   "metadata": {
    "collapsed": true
   },
   "outputs": [
    {
     "data": {
      "text/plain": [
       "<AxesSubplot:xlabel='DLVR_STORE_BRTC_NM', ylabel='DLVR_TIME_int'>"
      ]
     },
     "execution_count": 51,
     "metadata": {},
     "output_type": "execute_result"
    },
    {
     "data": {
      "image/png": "[encoded data removed]",
      "text/plain": [
       "<Figure size 432x288 with 1 Axes>"
      ]
     },
     "metadata": {
      "image/png": {
       "height": 263,
       "width": 392
      },
      "needs_background": "light"
     },
     "output_type": "display_data"
    }
   ],
   "source": [
    "sns.boxplot(data=raw2, x=\"DLVR_STORE_BRTC_NM\", y=\"DLVR_TIME_int\")"
   ]
  },
  {
   "cell_type": "code",
   "execution_count": 55,
   "metadata": {},
   "outputs": [
    {
     "data": {
      "text/plain": [
       "DLVR_STORE_LEGALDONG_NM\n",
       "와부읍     10.86074\n",
       "전곡읍     15.74915\n",
       "덕정동     15.90998\n",
       "포곡읍     16.11026\n",
       "이충동     16.18831\n",
       "          ...   \n",
       "목동동     76.19699\n",
       "홍문동     79.42857\n",
       "노온사동    89.40691\n",
       "양평읍    208.00000\n",
       "산척동    982.50000\n",
       "Name: DLVR_TIME_int, Length: 156, dtype: float64"
      ]
     },
     "execution_count": 55,
     "metadata": {},
     "output_type": "execute_result"
    }
   ],
   "source": [
    "#행정동별 평균 배달 소요시간 (시군구와 조합해서 동이름 중복없게)\n",
    "raw2.groupby([\"DLVR_STORE_LEGALDONG_NM\"])[\"DLVR_TIME_int\"].mean().sort_values()"
   ]
  },
  {
   "cell_type": "code",
   "execution_count": 56,
   "metadata": {},
   "outputs": [
    {
     "data": {
      "text/plain": [
       "DLVR_STORE_LEGALDONG_NM\n",
       "가능동      70324\n",
       "갈매동        962\n",
       "감정동       1567\n",
       "강천면          2\n",
       "계수동        247\n",
       "         ...  \n",
       "호매실동      1537\n",
       "호원동      92729\n",
       "홍문동         49\n",
       "화서동       1176\n",
       "화정동     134971\n",
       "Name: SN, Length: 156, dtype: int64"
      ]
     },
     "execution_count": 56,
     "metadata": {},
     "output_type": "execute_result"
    }
   ],
   "source": [
    "raw2.groupby([\"DLVR_STORE_LEGALDONG_NM\"])[\"SN\"].count()"
   ]
  },
  {
   "cell_type": "markdown",
   "metadata": {},
   "source": [
    "#라이더 붐비는 지역 확인하기\n",
    "#라이더 부족한 지역 확인하기\n",
    "\n",
    "- 총배달건수 * 25 => 이상적 배달시간\n",
    "- 실제 배달시간 - 이상적 배달시간\n",
    "- 차액에 따른 라이더 인원 배치 조정\n",
    "\n"
   ]
  },
  {
   "cell_type": "code",
   "execution_count": 62,
   "metadata": {},
   "outputs": [
    {
     "data": {
      "text/plain": [
       "78761900"
      ]
     },
     "execution_count": 62,
     "metadata": {},
     "output_type": "execute_result"
    }
   ],
   "source": [
    "raw2[\"SN\"].count()*25"
   ]
  },
  {
   "cell_type": "code",
   "execution_count": 63,
   "metadata": {},
   "outputs": [
    {
     "data": {
      "text/plain": [
       "79044855"
      ]
     },
     "execution_count": 63,
     "metadata": {},
     "output_type": "execute_result"
    }
   ],
   "source": [
    "raw2[\"DLVR_TIME_int\"].sum()"
   ]
  },
  {
   "cell_type": "code",
   "execution_count": 64,
   "metadata": {},
   "outputs": [
    {
     "data": {
      "text/plain": [
       "282955"
      ]
     },
     "execution_count": 64,
     "metadata": {},
     "output_type": "execute_result"
    }
   ],
   "source": [
    "79044855-78761900"
   ]
  },
  {
   "cell_type": "markdown",
   "metadata": {},
   "source": [
    "- 모든 '동'의 배달시간을 25분으로 맞출 경우, 배달 총 소요시간 282,955분만큼 줄어듬"
   ]
  },
  {
   "cell_type": "code",
   "execution_count": 81,
   "metadata": {},
   "outputs": [
    {
     "data": {
      "text/html": [
       "<div>\n",
       "<style scoped>\n",
       "    .dataframe tbody tr th:only-of-type {\n",
       "        vertical-align: middle;\n",
       "    }\n",
       "\n",
       "    .dataframe tbody tr th {\n",
       "        vertical-align: top;\n",
       "    }\n",
       "\n",
       "    .dataframe thead th {\n",
       "        text-align: right;\n",
       "    }\n",
       "</style>\n",
       "<table border=\"1\" class=\"dataframe\">\n",
       "  <thead>\n",
       "    <tr style=\"text-align: right;\">\n",
       "      <th></th>\n",
       "      <th>DLVR_STORE_LEGALDONG_NM</th>\n",
       "      <th>count</th>\n",
       "      <th>sum</th>\n",
       "    </tr>\n",
       "  </thead>\n",
       "  <tbody>\n",
       "    <tr>\n",
       "      <th>0</th>\n",
       "      <td>가능동</td>\n",
       "      <td>70324</td>\n",
       "      <td>1586539</td>\n",
       "    </tr>\n",
       "    <tr>\n",
       "      <th>1</th>\n",
       "      <td>갈매동</td>\n",
       "      <td>962</td>\n",
       "      <td>50331</td>\n",
       "    </tr>\n",
       "    <tr>\n",
       "      <th>2</th>\n",
       "      <td>감정동</td>\n",
       "      <td>1567</td>\n",
       "      <td>42903</td>\n",
       "    </tr>\n",
       "    <tr>\n",
       "      <th>3</th>\n",
       "      <td>강천면</td>\n",
       "      <td>2</td>\n",
       "      <td>46</td>\n",
       "    </tr>\n",
       "    <tr>\n",
       "      <th>4</th>\n",
       "      <td>계수동</td>\n",
       "      <td>247</td>\n",
       "      <td>5742</td>\n",
       "    </tr>\n",
       "    <tr>\n",
       "      <th>...</th>\n",
       "      <td>...</td>\n",
       "      <td>...</td>\n",
       "      <td>...</td>\n",
       "    </tr>\n",
       "    <tr>\n",
       "      <th>151</th>\n",
       "      <td>호매실동</td>\n",
       "      <td>1537</td>\n",
       "      <td>40320</td>\n",
       "    </tr>\n",
       "    <tr>\n",
       "      <th>152</th>\n",
       "      <td>호원동</td>\n",
       "      <td>92729</td>\n",
       "      <td>1951715</td>\n",
       "    </tr>\n",
       "    <tr>\n",
       "      <th>153</th>\n",
       "      <td>홍문동</td>\n",
       "      <td>49</td>\n",
       "      <td>3892</td>\n",
       "    </tr>\n",
       "    <tr>\n",
       "      <th>154</th>\n",
       "      <td>화서동</td>\n",
       "      <td>1176</td>\n",
       "      <td>37436</td>\n",
       "    </tr>\n",
       "    <tr>\n",
       "      <th>155</th>\n",
       "      <td>화정동</td>\n",
       "      <td>134971</td>\n",
       "      <td>3058560</td>\n",
       "    </tr>\n",
       "  </tbody>\n",
       "</table>\n",
       "<p>156 rows × 3 columns</p>\n",
       "</div>"
      ],
      "text/plain": [
       "    DLVR_STORE_LEGALDONG_NM   count      sum\n",
       "0                       가능동   70324  1586539\n",
       "1                       갈매동     962    50331\n",
       "2                       감정동    1567    42903\n",
       "3                       강천면       2       46\n",
       "4                       계수동     247     5742\n",
       "..                      ...     ...      ...\n",
       "151                    호매실동    1537    40320\n",
       "152                     호원동   92729  1951715\n",
       "153                     홍문동      49     3892\n",
       "154                     화서동    1176    37436\n",
       "155                     화정동  134971  3058560\n",
       "\n",
       "[156 rows x 3 columns]"
      ]
     },
     "execution_count": 81,
     "metadata": {},
     "output_type": "execute_result"
    }
   ],
   "source": [
    "raw2.groupby([\"DLVR_STORE_LEGALDONG_NM\"])[\"DLVR_TIME_int\"].agg([\"count\",\"sum\"]).reset_index()"
   ]
  },
  {
   "cell_type": "code",
   "execution_count": 82,
   "metadata": {},
   "outputs": [],
   "source": [
    "df_dong = raw2.groupby([\"DLVR_STORE_LEGALDONG_NM\"])[\"DLVR_TIME_int\"].agg([\"count\",\"sum\"]).reset_index()"
   ]
  },
  {
   "cell_type": "code",
   "execution_count": 83,
   "metadata": {},
   "outputs": [],
   "source": [
    "df_dong[\"DLVR_TIME_Goal\"] = df_dong[\"count\"]*25"
   ]
  },
  {
   "cell_type": "code",
   "execution_count": 85,
   "metadata": {},
   "outputs": [],
   "source": [
    "df_dong[\"adjust\"] = df_dong[\"DLVR_TIME_Goal\"] - df_dong[\"sum\"]"
   ]
  },
  {
   "cell_type": "code",
   "execution_count": 87,
   "metadata": {},
   "outputs": [],
   "source": [
    "df_dong[\"rider\"] = df_dong[\"adjust\"]/25"
   ]
  },
  {
   "cell_type": "code",
   "execution_count": 89,
   "metadata": {},
   "outputs": [
    {
     "data": {
      "text/plain": [
       "-282955"
      ]
     },
     "execution_count": 89,
     "metadata": {},
     "output_type": "execute_result"
    }
   ],
   "source": [
    "df_dong[\"adjust\"].sum()"
   ]
  },
  {
   "cell_type": "code",
   "execution_count": 90,
   "metadata": {},
   "outputs": [
    {
     "data": {
      "text/plain": [
       "3150476"
      ]
     },
     "execution_count": 90,
     "metadata": {},
     "output_type": "execute_result"
    }
   ],
   "source": [
    "raw2[\"SN\"].count()"
   ]
  },
  {
   "cell_type": "code",
   "execution_count": 91,
   "metadata": {},
   "outputs": [
    {
     "data": {
      "text/plain": [
       "0.0898134123224554"
      ]
     },
     "execution_count": 91,
     "metadata": {},
     "output_type": "execute_result"
    }
   ],
   "source": [
    "282955/3150476"
   ]
  },
  {
   "cell_type": "code",
   "execution_count": 92,
   "metadata": {},
   "outputs": [
    {
     "data": {
      "text/plain": [
       "Index(['SN', 'PROCESS_DT', 'DLVR_REQUST_STTUS_VALUE', 'DLVR_STORE_INDUTY_NM',\n",
       "       'DLVR_STORE_BRTC_NM', 'DLVR_STORE_SIGNGU_NM', 'DLVR_STORE_LEGALDONG_NM',\n",
       "       'DLVR_STORE_LI_NM', 'DLVR_STORE_ADSTRD_CODE', 'DLVR_DSTN_BRTC_NM',\n",
       "       'DLVR_DSTN_SIGNGU_NM', 'DLVR_DSTN_LEGALDONG_NM', 'DLVR_DSTN_LI_NM',\n",
       "       'DLVR_DSTN_ADSTRD_CODE', 'DLVR_MAN_ID', 'DLVR_AMOUNT', 'GOODS_AMOUNT',\n",
       "       'SETLE_KND_VALUE', 'DLVR_RCEPT_TIME', 'DLVR_COMPT_TIME', 'DLVR_TIME',\n",
       "       'DLVR_TIME_int'],\n",
       "      dtype='object')"
      ]
     },
     "execution_count": 92,
     "metadata": {},
     "output_type": "execute_result"
    }
   ],
   "source": [
    "raw2.columns"
   ]
  },
  {
   "cell_type": "code",
   "execution_count": 94,
   "metadata": {},
   "outputs": [
    {
     "name": "stderr",
     "output_type": "stream",
     "text": [
      "<ipython-input-94-63612dd27424>:1: SettingWithCopyWarning: \n",
      "A value is trying to be set on a copy of a slice from a DataFrame.\n",
      "Try using .loc[row_indexer,col_indexer] = value instead\n",
      "\n",
      "See the caveats in the documentation: https://pandas.pydata.org/pandas-docs/stable/user_guide/indexing.html#returning-a-view-versus-a-copy\n",
      "  raw2[\"DLVR_ROUTE\"] = raw2[\"DLVR_STORE_SIGNGU_NM\"] +\" to \" + raw2[\"DLVR_DSTN_SIGNGU_NM\"]\n"
     ]
    }
   ],
   "source": [
    "raw2[\"DLVR_ROUTE\"] = raw2[\"DLVR_STORE_SIGNGU_NM\"] +\" to \" + raw2[\"DLVR_DSTN_SIGNGU_NM\"] "
   ]
  },
  {
   "cell_type": "code",
   "execution_count": 106,
   "metadata": {},
   "outputs": [],
   "source": [
    "df_route = raw2.groupby([\"DLVR_ROUTE\"])[\"DLVR_TIME_int\"].mean().sort_values(ascending=False).reset_index()"
   ]
  },
  {
   "cell_type": "code",
   "execution_count": 110,
   "metadata": {},
   "outputs": [
    {
     "data": {
      "text/html": [
       "<div>\n",
       "<style scoped>\n",
       "    .dataframe tbody tr th:only-of-type {\n",
       "        vertical-align: middle;\n",
       "    }\n",
       "\n",
       "    .dataframe tbody tr th {\n",
       "        vertical-align: top;\n",
       "    }\n",
       "\n",
       "    .dataframe thead th {\n",
       "        text-align: right;\n",
       "    }\n",
       "</style>\n",
       "<table border=\"1\" class=\"dataframe\">\n",
       "  <thead>\n",
       "    <tr style=\"text-align: right;\">\n",
       "      <th></th>\n",
       "      <th>DLVR_TIME_int</th>\n",
       "    </tr>\n",
       "  </thead>\n",
       "  <tbody>\n",
       "    <tr>\n",
       "      <th>count</th>\n",
       "      <td>125.00000</td>\n",
       "    </tr>\n",
       "    <tr>\n",
       "      <th>mean</th>\n",
       "      <td>32.11791</td>\n",
       "    </tr>\n",
       "    <tr>\n",
       "      <th>std</th>\n",
       "      <td>21.04740</td>\n",
       "    </tr>\n",
       "    <tr>\n",
       "      <th>min</th>\n",
       "      <td>2.00000</td>\n",
       "    </tr>\n",
       "    <tr>\n",
       "      <th>25%</th>\n",
       "      <td>23.34006</td>\n",
       "    </tr>\n",
       "    <tr>\n",
       "      <th>50%</th>\n",
       "      <td>28.17841</td>\n",
       "    </tr>\n",
       "    <tr>\n",
       "      <th>75%</th>\n",
       "      <td>33.00000</td>\n",
       "    </tr>\n",
       "    <tr>\n",
       "      <th>max</th>\n",
       "      <td>208.00000</td>\n",
       "    </tr>\n",
       "  </tbody>\n",
       "</table>\n",
       "</div>"
      ],
      "text/plain": [
       "       DLVR_TIME_int\n",
       "count      125.00000\n",
       "mean        32.11791\n",
       "std         21.04740\n",
       "min          2.00000\n",
       "25%         23.34006\n",
       "50%         28.17841\n",
       "75%         33.00000\n",
       "max        208.00000"
      ]
     },
     "execution_count": 110,
     "metadata": {},
     "output_type": "execute_result"
    }
   ],
   "source": [
    "df_route.describe()"
   ]
  },
  {
   "cell_type": "code",
   "execution_count": 109,
   "metadata": {},
   "outputs": [
    {
     "data": {
      "text/plain": [
       "<AxesSubplot:>"
      ]
     },
     "execution_count": 109,
     "metadata": {},
     "output_type": "execute_result"
    },
    {
     "data": {
      "image/png": "[encoded data removed]",
      "text/plain": [
       "<Figure size 1440x576 with 1 Axes>"
      ]
     },
     "metadata": {
      "image/png": {
       "height": 522,
       "width": 1153
      },
      "needs_background": "light"
     },
     "output_type": "display_data"
    }
   ],
   "source": [
    "#업종을 x축으로 시각화\n",
    "plt.figure(figsize=(20, 8))\n",
    "plt.xticks(rotation = 70 )\n",
    "sns.boxplot(data=df_route)"
   ]
  },
  {
   "cell_type": "code",
   "execution_count": 118,
   "metadata": {},
   "outputs": [
    {
     "data": {
      "text/html": [
       "<div>\n",
       "<style scoped>\n",
       "    .dataframe tbody tr th:only-of-type {\n",
       "        vertical-align: middle;\n",
       "    }\n",
       "\n",
       "    .dataframe tbody tr th {\n",
       "        vertical-align: top;\n",
       "    }\n",
       "\n",
       "    .dataframe thead th {\n",
       "        text-align: right;\n",
       "    }\n",
       "</style>\n",
       "<table border=\"1\" class=\"dataframe\">\n",
       "  <thead>\n",
       "    <tr style=\"text-align: right;\">\n",
       "      <th></th>\n",
       "      <th>DLVR_ROUTE</th>\n",
       "      <th>DLVR_TIME_int</th>\n",
       "    </tr>\n",
       "  </thead>\n",
       "  <tbody>\n",
       "    <tr>\n",
       "      <th>0</th>\n",
       "      <td>양평군 to 양평군</td>\n",
       "      <td>208.00000</td>\n",
       "    </tr>\n",
       "    <tr>\n",
       "      <th>1</th>\n",
       "      <td>구리시 to 남양주시</td>\n",
       "      <td>95.00000</td>\n",
       "    </tr>\n",
       "    <tr>\n",
       "      <th>2</th>\n",
       "      <td>고양시 일산동구 to 의정부시</td>\n",
       "      <td>92.00000</td>\n",
       "    </tr>\n",
       "    <tr>\n",
       "      <th>3</th>\n",
       "      <td>여주시 to 여주시</td>\n",
       "      <td>79.42857</td>\n",
       "    </tr>\n",
       "    <tr>\n",
       "      <th>4</th>\n",
       "      <td>안양시 동안구 to 과천시</td>\n",
       "      <td>74.00000</td>\n",
       "    </tr>\n",
       "    <tr>\n",
       "      <th>5</th>\n",
       "      <td>동두천시 to 의정부시</td>\n",
       "      <td>61.33333</td>\n",
       "    </tr>\n",
       "    <tr>\n",
       "      <th>6</th>\n",
       "      <td>성남시 중원구 to 하남시</td>\n",
       "      <td>57.25000</td>\n",
       "    </tr>\n",
       "    <tr>\n",
       "      <th>7</th>\n",
       "      <td>남양주시 to 구리시</td>\n",
       "      <td>54.00000</td>\n",
       "    </tr>\n",
       "    <tr>\n",
       "      <th>8</th>\n",
       "      <td>구리시 to 구리시</td>\n",
       "      <td>52.27471</td>\n",
       "    </tr>\n",
       "    <tr>\n",
       "      <th>9</th>\n",
       "      <td>성남시 수정구 to 부천시</td>\n",
       "      <td>51.00000</td>\n",
       "    </tr>\n",
       "    <tr>\n",
       "      <th>10</th>\n",
       "      <td>남양주시 to 수원시 권선구</td>\n",
       "      <td>51.00000</td>\n",
       "    </tr>\n",
       "    <tr>\n",
       "      <th>11</th>\n",
       "      <td>부천시 to 남동구</td>\n",
       "      <td>49.40000</td>\n",
       "    </tr>\n",
       "    <tr>\n",
       "      <th>12</th>\n",
       "      <td>파주시 to 파주시</td>\n",
       "      <td>46.38079</td>\n",
       "    </tr>\n",
       "    <tr>\n",
       "      <th>13</th>\n",
       "      <td>평택시 to 화성시</td>\n",
       "      <td>45.00000</td>\n",
       "    </tr>\n",
       "    <tr>\n",
       "      <th>14</th>\n",
       "      <td>의정부시 to 동두천시</td>\n",
       "      <td>44.80000</td>\n",
       "    </tr>\n",
       "    <tr>\n",
       "      <th>15</th>\n",
       "      <td>오산시 to 평택시</td>\n",
       "      <td>44.00000</td>\n",
       "    </tr>\n",
       "    <tr>\n",
       "      <th>16</th>\n",
       "      <td>성남시 수정구 to 하남시</td>\n",
       "      <td>43.00000</td>\n",
       "    </tr>\n",
       "    <tr>\n",
       "      <th>17</th>\n",
       "      <td>성남시 수정구 to 성남시 분당구</td>\n",
       "      <td>42.07339</td>\n",
       "    </tr>\n",
       "    <tr>\n",
       "      <th>18</th>\n",
       "      <td>안양시 만안구 to 광명시</td>\n",
       "      <td>41.00000</td>\n",
       "    </tr>\n",
       "    <tr>\n",
       "      <th>19</th>\n",
       "      <td>평택시 to 안성시</td>\n",
       "      <td>40.00000</td>\n",
       "    </tr>\n",
       "    <tr>\n",
       "      <th>20</th>\n",
       "      <td>성남시 중원구 to 성남시 분당구</td>\n",
       "      <td>39.42938</td>\n",
       "    </tr>\n",
       "    <tr>\n",
       "      <th>21</th>\n",
       "      <td>화성시 to 화성시</td>\n",
       "      <td>39.32138</td>\n",
       "    </tr>\n",
       "    <tr>\n",
       "      <th>22</th>\n",
       "      <td>화성시 to 안산시 단원구</td>\n",
       "      <td>37.07812</td>\n",
       "    </tr>\n",
       "    <tr>\n",
       "      <th>23</th>\n",
       "      <td>고양시 덕양구 to 고양시 일산동구</td>\n",
       "      <td>35.91053</td>\n",
       "    </tr>\n",
       "    <tr>\n",
       "      <th>24</th>\n",
       "      <td>수원시 권선구 to 수원시 팔달구</td>\n",
       "      <td>35.32258</td>\n",
       "    </tr>\n",
       "    <tr>\n",
       "      <th>25</th>\n",
       "      <td>수원시 권선구 to 수원시 장안구</td>\n",
       "      <td>35.28846</td>\n",
       "    </tr>\n",
       "    <tr>\n",
       "      <th>26</th>\n",
       "      <td>화성시 to 수원시 장안구</td>\n",
       "      <td>35.00000</td>\n",
       "    </tr>\n",
       "    <tr>\n",
       "      <th>27</th>\n",
       "      <td>광명시 to 부천시</td>\n",
       "      <td>34.71875</td>\n",
       "    </tr>\n",
       "    <tr>\n",
       "      <th>28</th>\n",
       "      <td>수원시 팔달구 to 수원시 장안구</td>\n",
       "      <td>34.06283</td>\n",
       "    </tr>\n",
       "    <tr>\n",
       "      <th>29</th>\n",
       "      <td>평택시 to 오산시</td>\n",
       "      <td>33.75000</td>\n",
       "    </tr>\n",
       "    <tr>\n",
       "      <th>30</th>\n",
       "      <td>수원시 장안구 to 수원시 장안구</td>\n",
       "      <td>33.45882</td>\n",
       "    </tr>\n",
       "  </tbody>\n",
       "</table>\n",
       "</div>"
      ],
      "text/plain": [
       "             DLVR_ROUTE  DLVR_TIME_int\n",
       "0            양평군 to 양평군      208.00000\n",
       "1           구리시 to 남양주시       95.00000\n",
       "2      고양시 일산동구 to 의정부시       92.00000\n",
       "3            여주시 to 여주시       79.42857\n",
       "4        안양시 동안구 to 과천시       74.00000\n",
       "5          동두천시 to 의정부시       61.33333\n",
       "6        성남시 중원구 to 하남시       57.25000\n",
       "7           남양주시 to 구리시       54.00000\n",
       "8            구리시 to 구리시       52.27471\n",
       "9        성남시 수정구 to 부천시       51.00000\n",
       "10      남양주시 to 수원시 권선구       51.00000\n",
       "11           부천시 to 남동구       49.40000\n",
       "12           파주시 to 파주시       46.38079\n",
       "13           평택시 to 화성시       45.00000\n",
       "14         의정부시 to 동두천시       44.80000\n",
       "15           오산시 to 평택시       44.00000\n",
       "16       성남시 수정구 to 하남시       43.00000\n",
       "17   성남시 수정구 to 성남시 분당구       42.07339\n",
       "18       안양시 만안구 to 광명시       41.00000\n",
       "19           평택시 to 안성시       40.00000\n",
       "20   성남시 중원구 to 성남시 분당구       39.42938\n",
       "21           화성시 to 화성시       39.32138\n",
       "22       화성시 to 안산시 단원구       37.07812\n",
       "23  고양시 덕양구 to 고양시 일산동구       35.91053\n",
       "24   수원시 권선구 to 수원시 팔달구       35.32258\n",
       "25   수원시 권선구 to 수원시 장안구       35.28846\n",
       "26       화성시 to 수원시 장안구       35.00000\n",
       "27           광명시 to 부천시       34.71875\n",
       "28   수원시 팔달구 to 수원시 장안구       34.06283\n",
       "29           평택시 to 오산시       33.75000\n",
       "30   수원시 장안구 to 수원시 장안구       33.45882"
      ]
     },
     "execution_count": 118,
     "metadata": {},
     "output_type": "execute_result"
    }
   ],
   "source": [
    "# 33분이상 Route 배달 노선 없애기 -> 동단위로 다시보기\n",
    "df_route[df_route[\"DLVR_TIME_int\"] > 33]"
   ]
  },
  {
   "cell_type": "markdown",
   "metadata": {},
   "source": [
    "이 지역 루트를 없앨 경우 줄이는 배달 시간 확인하기\n"
   ]
  },
  {
   "cell_type": "markdown",
   "metadata": {},
   "source": [
    "- 몰리는 지역 확인하기\n",
    "- 부족한 지역 확인하기"
   ]
  },
  {
   "cell_type": "code",
   "execution_count": 129,
   "metadata": {},
   "outputs": [
    {
     "data": {
      "text/html": [
       "<div>\n",
       "<style scoped>\n",
       "    .dataframe tbody tr th:only-of-type {\n",
       "        vertical-align: middle;\n",
       "    }\n",
       "\n",
       "    .dataframe tbody tr th {\n",
       "        vertical-align: top;\n",
       "    }\n",
       "\n",
       "    .dataframe thead th {\n",
       "        text-align: right;\n",
       "    }\n",
       "</style>\n",
       "<table border=\"1\" class=\"dataframe\">\n",
       "  <thead>\n",
       "    <tr style=\"text-align: right;\">\n",
       "      <th></th>\n",
       "      <th>SN</th>\n",
       "      <th>PROCESS_DT</th>\n",
       "      <th>DLVR_REQUST_STTUS_VALUE</th>\n",
       "      <th>DLVR_STORE_INDUTY_NM</th>\n",
       "      <th>DLVR_STORE_BRTC_NM</th>\n",
       "      <th>DLVR_STORE_SIGNGU_NM</th>\n",
       "      <th>DLVR_STORE_LEGALDONG_NM</th>\n",
       "      <th>DLVR_STORE_LI_NM</th>\n",
       "      <th>DLVR_STORE_ADSTRD_CODE</th>\n",
       "      <th>DLVR_DSTN_BRTC_NM</th>\n",
       "      <th>...</th>\n",
       "      <th>DLVR_DSTN_ADSTRD_CODE</th>\n",
       "      <th>DLVR_MAN_ID</th>\n",
       "      <th>DLVR_AMOUNT</th>\n",
       "      <th>GOODS_AMOUNT</th>\n",
       "      <th>SETLE_KND_VALUE</th>\n",
       "      <th>DLVR_RCEPT_TIME</th>\n",
       "      <th>DLVR_COMPT_TIME</th>\n",
       "      <th>DLVR_TIME</th>\n",
       "      <th>DLVR_TIME_int</th>\n",
       "      <th>DLVR_ROUTE</th>\n",
       "    </tr>\n",
       "  </thead>\n",
       "  <tbody>\n",
       "    <tr>\n",
       "      <th>39</th>\n",
       "      <td>3487007</td>\n",
       "      <td>2019-12-01</td>\n",
       "      <td>1</td>\n",
       "      <td>야식</td>\n",
       "      <td>경기도</td>\n",
       "      <td>남양주시</td>\n",
       "      <td>진접읍</td>\n",
       "      <td>금곡리</td>\n",
       "      <td>4136025300</td>\n",
       "      <td>경기도</td>\n",
       "      <td>...</td>\n",
       "      <td>4136026200</td>\n",
       "      <td>D0005528</td>\n",
       "      <td>3500</td>\n",
       "      <td>27000</td>\n",
       "      <td>1</td>\n",
       "      <td>2019-12-01 21:29:00</td>\n",
       "      <td>2019-12-01 21:54:00</td>\n",
       "      <td>0 days 00:25:00</td>\n",
       "      <td>25</td>\n",
       "      <td>남양주시 to 남양주시</td>\n",
       "    </tr>\n",
       "    <tr>\n",
       "      <th>55</th>\n",
       "      <td>3487039</td>\n",
       "      <td>2019-12-01</td>\n",
       "      <td>1</td>\n",
       "      <td>야식</td>\n",
       "      <td>경기도</td>\n",
       "      <td>남양주시</td>\n",
       "      <td>진접읍</td>\n",
       "      <td>금곡리</td>\n",
       "      <td>4136025300</td>\n",
       "      <td>경기도</td>\n",
       "      <td>...</td>\n",
       "      <td>4136025300</td>\n",
       "      <td>D0005511</td>\n",
       "      <td>3500</td>\n",
       "      <td>32000</td>\n",
       "      <td>1</td>\n",
       "      <td>2019-12-01 20:40:00</td>\n",
       "      <td>2019-12-01 21:08:00</td>\n",
       "      <td>0 days 00:28:00</td>\n",
       "      <td>28</td>\n",
       "      <td>남양주시 to 남양주시</td>\n",
       "    </tr>\n",
       "    <tr>\n",
       "      <th>63</th>\n",
       "      <td>3487055</td>\n",
       "      <td>2019-12-01</td>\n",
       "      <td>1</td>\n",
       "      <td>족발/보쌈</td>\n",
       "      <td>경기도</td>\n",
       "      <td>남양주시</td>\n",
       "      <td>오남읍</td>\n",
       "      <td>양지리</td>\n",
       "      <td>4136026200</td>\n",
       "      <td>경기도</td>\n",
       "      <td>...</td>\n",
       "      <td>4136025300</td>\n",
       "      <td>D0005583</td>\n",
       "      <td>4000</td>\n",
       "      <td>38000</td>\n",
       "      <td>1</td>\n",
       "      <td>2019-12-01 18:35:00</td>\n",
       "      <td>2019-12-01 19:07:00</td>\n",
       "      <td>0 days 00:32:00</td>\n",
       "      <td>32</td>\n",
       "      <td>남양주시 to 남양주시</td>\n",
       "    </tr>\n",
       "    <tr>\n",
       "      <th>80</th>\n",
       "      <td>3487081</td>\n",
       "      <td>2019-12-01</td>\n",
       "      <td>1</td>\n",
       "      <td>치킨</td>\n",
       "      <td>경기도</td>\n",
       "      <td>용인시 처인구</td>\n",
       "      <td>남사면</td>\n",
       "      <td>아곡리</td>\n",
       "      <td>4146132000</td>\n",
       "      <td>경기도</td>\n",
       "      <td>...</td>\n",
       "      <td>4146132000</td>\n",
       "      <td>D0001969</td>\n",
       "      <td>3100</td>\n",
       "      <td>17500</td>\n",
       "      <td>2</td>\n",
       "      <td>2019-12-01 19:45:00</td>\n",
       "      <td>2019-12-01 20:17:00</td>\n",
       "      <td>0 days 00:32:00</td>\n",
       "      <td>32</td>\n",
       "      <td>용인시 처인구 to 용인시 처인구</td>\n",
       "    </tr>\n",
       "    <tr>\n",
       "      <th>98</th>\n",
       "      <td>3487130</td>\n",
       "      <td>2019-12-01</td>\n",
       "      <td>1</td>\n",
       "      <td>치킨</td>\n",
       "      <td>경기도</td>\n",
       "      <td>용인시 처인구</td>\n",
       "      <td>남사면</td>\n",
       "      <td>아곡리</td>\n",
       "      <td>4146132000</td>\n",
       "      <td>경기도</td>\n",
       "      <td>...</td>\n",
       "      <td>4146132000</td>\n",
       "      <td>D0001969</td>\n",
       "      <td>3100</td>\n",
       "      <td>13500</td>\n",
       "      <td>2</td>\n",
       "      <td>2019-12-01 22:59:00</td>\n",
       "      <td>2019-12-01 23:24:00</td>\n",
       "      <td>0 days 00:25:00</td>\n",
       "      <td>25</td>\n",
       "      <td>용인시 처인구 to 용인시 처인구</td>\n",
       "    </tr>\n",
       "    <tr>\n",
       "      <th>...</th>\n",
       "      <td>...</td>\n",
       "      <td>...</td>\n",
       "      <td>...</td>\n",
       "      <td>...</td>\n",
       "      <td>...</td>\n",
       "      <td>...</td>\n",
       "      <td>...</td>\n",
       "      <td>...</td>\n",
       "      <td>...</td>\n",
       "      <td>...</td>\n",
       "      <td>...</td>\n",
       "      <td>...</td>\n",
       "      <td>...</td>\n",
       "      <td>...</td>\n",
       "      <td>...</td>\n",
       "      <td>...</td>\n",
       "      <td>...</td>\n",
       "      <td>...</td>\n",
       "      <td>...</td>\n",
       "      <td>...</td>\n",
       "      <td>...</td>\n",
       "    </tr>\n",
       "    <tr>\n",
       "      <th>3172978</th>\n",
       "      <td>7750473</td>\n",
       "      <td>2020-03-31</td>\n",
       "      <td>1</td>\n",
       "      <td>한식</td>\n",
       "      <td>경기도</td>\n",
       "      <td>평택시</td>\n",
       "      <td>안중읍</td>\n",
       "      <td>안중리</td>\n",
       "      <td>4122025300</td>\n",
       "      <td>경기도</td>\n",
       "      <td>...</td>\n",
       "      <td>4122025300</td>\n",
       "      <td>D0009635</td>\n",
       "      <td>3000</td>\n",
       "      <td>36000</td>\n",
       "      <td>2</td>\n",
       "      <td>2020-03-31 22:18:00</td>\n",
       "      <td>2020-03-31 22:41:00</td>\n",
       "      <td>0 days 00:23:00</td>\n",
       "      <td>23</td>\n",
       "      <td>평택시 to 평택시</td>\n",
       "    </tr>\n",
       "    <tr>\n",
       "      <th>3172981</th>\n",
       "      <td>7750484</td>\n",
       "      <td>2020-03-31</td>\n",
       "      <td>1</td>\n",
       "      <td>분식</td>\n",
       "      <td>경기도</td>\n",
       "      <td>남양주시</td>\n",
       "      <td>와부읍</td>\n",
       "      <td>도곡리</td>\n",
       "      <td>4136025000</td>\n",
       "      <td>경기도</td>\n",
       "      <td>...</td>\n",
       "      <td>4136025000</td>\n",
       "      <td>D0010443</td>\n",
       "      <td>3300</td>\n",
       "      <td>19000</td>\n",
       "      <td>1</td>\n",
       "      <td>2020-03-31 22:57:00</td>\n",
       "      <td>2020-03-31 23:06:00</td>\n",
       "      <td>0 days 00:09:00</td>\n",
       "      <td>9</td>\n",
       "      <td>남양주시 to 남양주시</td>\n",
       "    </tr>\n",
       "    <tr>\n",
       "      <th>3172985</th>\n",
       "      <td>7750491</td>\n",
       "      <td>2020-03-31</td>\n",
       "      <td>1</td>\n",
       "      <td>야식</td>\n",
       "      <td>경기도</td>\n",
       "      <td>용인시 처인구</td>\n",
       "      <td>남사면</td>\n",
       "      <td>아곡리</td>\n",
       "      <td>4146132000</td>\n",
       "      <td>경기도</td>\n",
       "      <td>...</td>\n",
       "      <td>4146132000</td>\n",
       "      <td>D0009054</td>\n",
       "      <td>3100</td>\n",
       "      <td>17000</td>\n",
       "      <td>2</td>\n",
       "      <td>2020-03-31 23:10:00</td>\n",
       "      <td>2020-03-31 23:22:00</td>\n",
       "      <td>0 days 00:12:00</td>\n",
       "      <td>12</td>\n",
       "      <td>용인시 처인구 to 용인시 처인구</td>\n",
       "    </tr>\n",
       "    <tr>\n",
       "      <th>3172997</th>\n",
       "      <td>7750515</td>\n",
       "      <td>2020-03-31</td>\n",
       "      <td>1</td>\n",
       "      <td>치킨</td>\n",
       "      <td>경기도</td>\n",
       "      <td>화성시</td>\n",
       "      <td>남양읍</td>\n",
       "      <td>남양리</td>\n",
       "      <td>4159026200</td>\n",
       "      <td>경기도</td>\n",
       "      <td>...</td>\n",
       "      <td>4159026200</td>\n",
       "      <td>D0006738</td>\n",
       "      <td>3000</td>\n",
       "      <td>0</td>\n",
       "      <td>2</td>\n",
       "      <td>2020-03-31 23:57:00</td>\n",
       "      <td>2020-04-01 00:10:00</td>\n",
       "      <td>0 days 00:13:00</td>\n",
       "      <td>13</td>\n",
       "      <td>화성시 to 화성시</td>\n",
       "    </tr>\n",
       "    <tr>\n",
       "      <th>3173004</th>\n",
       "      <td>7750525</td>\n",
       "      <td>2020-03-31</td>\n",
       "      <td>1</td>\n",
       "      <td>야식</td>\n",
       "      <td>경기도</td>\n",
       "      <td>남양주시</td>\n",
       "      <td>와부읍</td>\n",
       "      <td>덕소리</td>\n",
       "      <td>4136025000</td>\n",
       "      <td>경기도</td>\n",
       "      <td>...</td>\n",
       "      <td>4136025000</td>\n",
       "      <td>D0007366</td>\n",
       "      <td>3000</td>\n",
       "      <td>31000</td>\n",
       "      <td>1</td>\n",
       "      <td>2020-03-31 23:55:00</td>\n",
       "      <td>2020-04-01 00:03:00</td>\n",
       "      <td>0 days 00:08:00</td>\n",
       "      <td>8</td>\n",
       "      <td>남양주시 to 남양주시</td>\n",
       "    </tr>\n",
       "  </tbody>\n",
       "</table>\n",
       "<p>301927 rows × 23 columns</p>\n",
       "</div>"
      ],
      "text/plain": [
       "              SN  PROCESS_DT  DLVR_REQUST_STTUS_VALUE DLVR_STORE_INDUTY_NM  \\\n",
       "39       3487007  2019-12-01                        1                   야식   \n",
       "55       3487039  2019-12-01                        1                   야식   \n",
       "63       3487055  2019-12-01                        1                족발/보쌈   \n",
       "80       3487081  2019-12-01                        1                   치킨   \n",
       "98       3487130  2019-12-01                        1                   치킨   \n",
       "...          ...         ...                      ...                  ...   \n",
       "3172978  7750473  2020-03-31                        1                   한식   \n",
       "3172981  7750484  2020-03-31                        1                   분식   \n",
       "3172985  7750491  2020-03-31                        1                   야식   \n",
       "3172997  7750515  2020-03-31                        1                   치킨   \n",
       "3173004  7750525  2020-03-31                        1                   야식   \n",
       "\n",
       "        DLVR_STORE_BRTC_NM DLVR_STORE_SIGNGU_NM DLVR_STORE_LEGALDONG_NM  \\\n",
       "39                     경기도                 남양주시                     진접읍   \n",
       "55                     경기도                 남양주시                     진접읍   \n",
       "63                     경기도                 남양주시                     오남읍   \n",
       "80                     경기도              용인시 처인구                     남사면   \n",
       "98                     경기도              용인시 처인구                     남사면   \n",
       "...                    ...                  ...                     ...   \n",
       "3172978                경기도                  평택시                     안중읍   \n",
       "3172981                경기도                 남양주시                     와부읍   \n",
       "3172985                경기도              용인시 처인구                     남사면   \n",
       "3172997                경기도                  화성시                     남양읍   \n",
       "3173004                경기도                 남양주시                     와부읍   \n",
       "\n",
       "        DLVR_STORE_LI_NM  DLVR_STORE_ADSTRD_CODE DLVR_DSTN_BRTC_NM  ...  \\\n",
       "39                   금곡리              4136025300               경기도  ...   \n",
       "55                   금곡리              4136025300               경기도  ...   \n",
       "63                   양지리              4136026200               경기도  ...   \n",
       "80                   아곡리              4146132000               경기도  ...   \n",
       "98                   아곡리              4146132000               경기도  ...   \n",
       "...                  ...                     ...               ...  ...   \n",
       "3172978              안중리              4122025300               경기도  ...   \n",
       "3172981              도곡리              4136025000               경기도  ...   \n",
       "3172985              아곡리              4146132000               경기도  ...   \n",
       "3172997              남양리              4159026200               경기도  ...   \n",
       "3173004              덕소리              4136025000               경기도  ...   \n",
       "\n",
       "        DLVR_DSTN_ADSTRD_CODE DLVR_MAN_ID DLVR_AMOUNT GOODS_AMOUNT  \\\n",
       "39                 4136026200    D0005528        3500        27000   \n",
       "55                 4136025300    D0005511        3500        32000   \n",
       "63                 4136025300    D0005583        4000        38000   \n",
       "80                 4146132000    D0001969        3100        17500   \n",
       "98                 4146132000    D0001969        3100        13500   \n",
       "...                       ...         ...         ...          ...   \n",
       "3172978            4122025300    D0009635        3000        36000   \n",
       "3172981            4136025000    D0010443        3300        19000   \n",
       "3172985            4146132000    D0009054        3100        17000   \n",
       "3172997            4159026200    D0006738        3000            0   \n",
       "3173004            4136025000    D0007366        3000        31000   \n",
       "\n",
       "        SETLE_KND_VALUE     DLVR_RCEPT_TIME     DLVR_COMPT_TIME  \\\n",
       "39                    1 2019-12-01 21:29:00 2019-12-01 21:54:00   \n",
       "55                    1 2019-12-01 20:40:00 2019-12-01 21:08:00   \n",
       "63                    1 2019-12-01 18:35:00 2019-12-01 19:07:00   \n",
       "80                    2 2019-12-01 19:45:00 2019-12-01 20:17:00   \n",
       "98                    2 2019-12-01 22:59:00 2019-12-01 23:24:00   \n",
       "...                 ...                 ...                 ...   \n",
       "3172978               2 2020-03-31 22:18:00 2020-03-31 22:41:00   \n",
       "3172981               1 2020-03-31 22:57:00 2020-03-31 23:06:00   \n",
       "3172985               2 2020-03-31 23:10:00 2020-03-31 23:22:00   \n",
       "3172997               2 2020-03-31 23:57:00 2020-04-01 00:10:00   \n",
       "3173004               1 2020-03-31 23:55:00 2020-04-01 00:03:00   \n",
       "\n",
       "              DLVR_TIME DLVR_TIME_int          DLVR_ROUTE  \n",
       "39      0 days 00:25:00            25        남양주시 to 남양주시  \n",
       "55      0 days 00:28:00            28        남양주시 to 남양주시  \n",
       "63      0 days 00:32:00            32        남양주시 to 남양주시  \n",
       "80      0 days 00:32:00            32  용인시 처인구 to 용인시 처인구  \n",
       "98      0 days 00:25:00            25  용인시 처인구 to 용인시 처인구  \n",
       "...                 ...           ...                 ...  \n",
       "3172978 0 days 00:23:00            23          평택시 to 평택시  \n",
       "3172981 0 days 00:09:00             9        남양주시 to 남양주시  \n",
       "3172985 0 days 00:12:00            12  용인시 처인구 to 용인시 처인구  \n",
       "3172997 0 days 00:13:00            13          화성시 to 화성시  \n",
       "3173004 0 days 00:08:00             8        남양주시 to 남양주시  \n",
       "\n",
       "[301927 rows x 23 columns]"
      ]
     },
     "execution_count": 129,
     "metadata": {},
     "output_type": "execute_result"
    }
   ],
   "source": [
    "raw2[~raw2[\"DLVR_STORE_LEGALDONG_NM\"].str.contains(\"동\")]"
   ]
  },
  {
   "cell_type": "code",
   "execution_count": 130,
   "metadata": {},
   "outputs": [
    {
     "data": {
      "text/plain": [
       "array(['중산동', '의정부동', '장항동', '금오동', '광명동', '괴안동', '송내동', '중동', '신곡동',\n",
       "       '이동', '심곡동', '옥길동', '화정동', '가능동', '약대동', '본오동', '목감동', '호원동',\n",
       "       '산현동', '민락동', '금곡동', '철산동', '풍동', '역곡동', '마두동', '진접읍', '행신동', '상동',\n",
       "       '조남동', '삼정동', '일직동', '소하동', '오남읍', '일동', '성사동', '일산동', '신읍동',\n",
       "       '남사면', '식사동', '백석동', '낙양동', '광사동', '옥정동', '소사본동', '녹양동', '주교동',\n",
       "       '원미동', '정발산동', '사동', '탄현동', '평촌동', '정왕동', '호계동', '심곡본동', '풍무동',\n",
       "       '사우동', '하안동', '용현동', '소사동', '주엽동', '와동동', '덕계동', '생연동', '태전동',\n",
       "       '장암동', '별내동', '소흘읍', '남양읍', '덕이동', '계수동', '토당동', '동패동', '은행동',\n",
       "       '지행동', '백석읍', '신천동', '장현동', '대야동', '춘의동', '야당동', '삼숭동', '석수동',\n",
       "       '범박동', '호매실동', '전곡읍', '홍문동', '향남읍', '봉담읍', '퇴계원읍', '새솔동', '포곡읍',\n",
       "       '안중읍', '문발동', '도당동', '덕정동', '논곡동', '능곡동', '관양동', '진건읍', '대화동',\n",
       "       '내동', '목동동', '오산동', '감정동', '양평읍', '장곡동', '갈매동', '산척동', '월곶동',\n",
       "       '중대동', '지산동', '서정동', '원흥동', '삼송동', '도내동', '선단동', '장지동', '오정동',\n",
       "       '용두동', '양촌읍', '신장동', '와부읍', '천천동', '성석동', '동두천동', '상패동', '동산동',\n",
       "       '화서동', '구운동', '모현읍', '신북면', '강천면', '보산동', '안흥동', '청북읍', '원동',\n",
       "       '신흥동', '성남동', '태평동', '금광동', '중앙동', '상대원동', '복정동', '수진동', '세교동',\n",
       "       '양지동', '하대원동', '이충동', '노온사동', '독곡동', '일동면', '신원동', '유방동', '장호원읍',\n",
       "       '군내면', '초지동'], dtype=object)"
      ]
     },
     "execution_count": 130,
     "metadata": {},
     "output_type": "execute_result"
    }
   ],
   "source": [
    "raw2[\"DLVR_STORE_LEGALDONG_NM\"].unique()"
   ]
  },
  {
   "cell_type": "code",
   "execution_count": 131,
   "metadata": {},
   "outputs": [
    {
     "data": {
      "text/plain": [
       "array(['\\\\N', '금곡리', '양지리', '아곡리', '오남리', '장현리', '송우리', '남양리', '복지리',\n",
       "       '연평리', '전곡리', '완장리', '하길리', '와우리', '퇴계원리', '둔전리', '현화리', '용정리',\n",
       "       '양근리', '부평리', '이동교리', '은대리', '안중리', '학운리', '덕소리', '도곡리', '일산리',\n",
       "       '가채리', '걸은리', '팔야리', '학현리', '송담리', '옥길리', '덕우리', '기산리', '장호원리',\n",
       "       '구읍리', '초가팔리', '상신리', '발안리'], dtype=object)"
      ]
     },
     "execution_count": 131,
     "metadata": {},
     "output_type": "execute_result"
    }
   ],
   "source": [
    "raw2[\"DLVR_STORE_LI_NM\"].unique()"
   ]
  },
  {
   "cell_type": "code",
   "execution_count": 133,
   "metadata": {},
   "outputs": [
    {
     "name": "stderr",
     "output_type": "stream",
     "text": [
      "<ipython-input-133-ded42196da1e>:1: SettingWithCopyWarning: \n",
      "A value is trying to be set on a copy of a slice from a DataFrame.\n",
      "Try using .loc[row_indexer,col_indexer] = value instead\n",
      "\n",
      "See the caveats in the documentation: https://pandas.pydata.org/pandas-docs/stable/user_guide/indexing.html#returning-a-view-versus-a-copy\n",
      "  raw2[\"DLVR_STORE_LI_NM\"] = raw2[\"DLVR_STORE_LI_NM\"].str.replace(r'\\\\N','')\n"
     ]
    }
   ],
   "source": [
    "raw2[\"DLVR_STORE_LI_NM\"] = raw2[\"DLVR_STORE_LI_NM\"].str.replace(r'\\\\N','')"
   ]
  },
  {
   "cell_type": "code",
   "execution_count": 134,
   "metadata": {},
   "outputs": [
    {
     "data": {
      "text/plain": [
       "array(['', '금곡리', '양지리', '아곡리', '오남리', '장현리', '송우리', '남양리', '복지리', '연평리',\n",
       "       '전곡리', '완장리', '하길리', '와우리', '퇴계원리', '둔전리', '현화리', '용정리', '양근리',\n",
       "       '부평리', '이동교리', '은대리', '안중리', '학운리', '덕소리', '도곡리', '일산리', '가채리',\n",
       "       '걸은리', '팔야리', '학현리', '송담리', '옥길리', '덕우리', '기산리', '장호원리', '구읍리',\n",
       "       '초가팔리', '상신리', '발안리'], dtype=object)"
      ]
     },
     "execution_count": 134,
     "metadata": {},
     "output_type": "execute_result"
    }
   ],
   "source": [
    "raw2[\"DLVR_STORE_LI_NM\"].unique()"
   ]
  },
  {
   "cell_type": "markdown",
   "metadata": {},
   "source": [
    "인사이트 별개보 뽑아내기\n",
    "0. 현재 루트로 지도그려보기(출발지 목적지 평균값으로)\n",
    "1. 배달시간 75%이상 해당하는 루트 없애기(boxplot)\n",
    "2. 라이더 많은지역 라이더 축소\n",
    "3. 라이더 적은지역 라이더 강화\n",
    "4. 해당루투의 평균값 차 확인\n",
    "5. 최단거리 배치 지도 만들기(최종 조정 데이터로)"
   ]
  },
  {
   "cell_type": "code",
   "execution_count": null,
   "metadata": {},
   "outputs": [],
   "source": []
  }
 ],
 "metadata": {
  "kernelspec": {
   "display_name": "Python 3",
   "language": "python",
   "name": "python3"
  },
  "language_info": {
   "codemirror_mode": {
    "name": "ipython",
    "version": 3
   },
   "file_extension": ".py",
   "mimetype": "text/x-python",
   "name": "python",
   "nbconvert_exporter": "python",
   "pygments_lexer": "ipython3",
   "version": "3.8.5"
  },
  "toc": {
   "base_numbering": 1,
   "nav_menu": {},
   "number_sections": true,
   "sideBar": true,
   "skip_h1_title": false,
   "title_cell": "Table of Contents",
   "title_sidebar": "Contents",
   "toc_cell": false,
   "toc_position": {},
   "toc_section_display": true,
   "toc_window_display": false
  }
 },
 "nbformat": 4,
 "nbformat_minor": 4
}
